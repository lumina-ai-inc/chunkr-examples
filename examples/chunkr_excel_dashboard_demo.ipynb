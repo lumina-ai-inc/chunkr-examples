{
 "cells": [
  {
   "cell_type": "code",
   "execution_count": null,
   "id": "f91e5bd7",
   "metadata": {},
   "outputs": [
    {
     "name": "stdout",
     "output_type": "stream",
     "text": [
      "Requirement already satisfied: chunkr_ai in /media/akhilesh/data2/Chunkr/repositories/chunkr-examples/.venv/lib/python3.12/site-packages (0.3.1)\n",
      "Requirement already satisfied: plotly in /media/akhilesh/data2/Chunkr/repositories/chunkr-examples/.venv/lib/python3.12/site-packages (6.2.0)\n",
      "Requirement already satisfied: pandas in /media/akhilesh/data2/Chunkr/repositories/chunkr-examples/.venv/lib/python3.12/site-packages (2.3.1)\n",
      "Requirement already satisfied: beautifulsoup4 in /media/akhilesh/data2/Chunkr/repositories/chunkr-examples/.venv/lib/python3.12/site-packages (4.13.4)\n",
      "Requirement already satisfied: lxml in /media/akhilesh/data2/Chunkr/repositories/chunkr-examples/.venv/lib/python3.12/site-packages (6.0.0)\n",
      "Requirement already satisfied: pydantic in /media/akhilesh/data2/Chunkr/repositories/chunkr-examples/.venv/lib/python3.12/site-packages (2.11.7)\n",
      "Requirement already satisfied: httpx>=0.25.0 in /media/akhilesh/data2/Chunkr/repositories/chunkr-examples/.venv/lib/python3.12/site-packages (from chunkr_ai) (0.28.1)\n",
      "Requirement already satisfied: matplotlib>=3.10.3 in /media/akhilesh/data2/Chunkr/repositories/chunkr-examples/.venv/lib/python3.12/site-packages (from chunkr_ai) (3.10.3)\n",
      "Requirement already satisfied: nest-asyncio>=1.6.0 in /media/akhilesh/data2/Chunkr/repositories/chunkr-examples/.venv/lib/python3.12/site-packages (from chunkr_ai) (1.6.0)\n",
      "Requirement already satisfied: pillow>=10.0.0 in /media/akhilesh/data2/Chunkr/repositories/chunkr-examples/.venv/lib/python3.12/site-packages (from chunkr_ai) (11.3.0)\n",
      "Requirement already satisfied: python-dotenv>=0.19.0 in /media/akhilesh/data2/Chunkr/repositories/chunkr-examples/.venv/lib/python3.12/site-packages (from chunkr_ai) (1.1.1)\n",
      "Requirement already satisfied: narwhals>=1.15.1 in /media/akhilesh/data2/Chunkr/repositories/chunkr-examples/.venv/lib/python3.12/site-packages (from plotly) (1.48.1)\n",
      "Requirement already satisfied: packaging in /media/akhilesh/data2/Chunkr/repositories/chunkr-examples/.venv/lib/python3.12/site-packages (from plotly) (25.0)\n",
      "Requirement already satisfied: numpy>=1.26.0 in /media/akhilesh/data2/Chunkr/repositories/chunkr-examples/.venv/lib/python3.12/site-packages (from pandas) (2.3.2)\n",
      "Requirement already satisfied: python-dateutil>=2.8.2 in /media/akhilesh/data2/Chunkr/repositories/chunkr-examples/.venv/lib/python3.12/site-packages (from pandas) (2.9.0.post0)\n",
      "Requirement already satisfied: pytz>=2020.1 in /media/akhilesh/data2/Chunkr/repositories/chunkr-examples/.venv/lib/python3.12/site-packages (from pandas) (2025.2)\n",
      "Requirement already satisfied: tzdata>=2022.7 in /media/akhilesh/data2/Chunkr/repositories/chunkr-examples/.venv/lib/python3.12/site-packages (from pandas) (2025.2)\n",
      "Requirement already satisfied: soupsieve>1.2 in /media/akhilesh/data2/Chunkr/repositories/chunkr-examples/.venv/lib/python3.12/site-packages (from beautifulsoup4) (2.7)\n",
      "Requirement already satisfied: typing-extensions>=4.0.0 in /media/akhilesh/data2/Chunkr/repositories/chunkr-examples/.venv/lib/python3.12/site-packages (from beautifulsoup4) (4.14.1)\n",
      "Requirement already satisfied: annotated-types>=0.6.0 in /media/akhilesh/data2/Chunkr/repositories/chunkr-examples/.venv/lib/python3.12/site-packages (from pydantic) (0.7.0)\n",
      "Requirement already satisfied: pydantic-core==2.33.2 in /media/akhilesh/data2/Chunkr/repositories/chunkr-examples/.venv/lib/python3.12/site-packages (from pydantic) (2.33.2)\n",
      "Requirement already satisfied: typing-inspection>=0.4.0 in /media/akhilesh/data2/Chunkr/repositories/chunkr-examples/.venv/lib/python3.12/site-packages (from pydantic) (0.4.1)\n",
      "Requirement already satisfied: anyio in /media/akhilesh/data2/Chunkr/repositories/chunkr-examples/.venv/lib/python3.12/site-packages (from httpx>=0.25.0->chunkr_ai) (4.9.0)\n",
      "Requirement already satisfied: certifi in /media/akhilesh/data2/Chunkr/repositories/chunkr-examples/.venv/lib/python3.12/site-packages (from httpx>=0.25.0->chunkr_ai) (2025.7.14)\n",
      "Requirement already satisfied: httpcore==1.* in /media/akhilesh/data2/Chunkr/repositories/chunkr-examples/.venv/lib/python3.12/site-packages (from httpx>=0.25.0->chunkr_ai) (1.0.9)\n",
      "Requirement already satisfied: idna in /media/akhilesh/data2/Chunkr/repositories/chunkr-examples/.venv/lib/python3.12/site-packages (from httpx>=0.25.0->chunkr_ai) (3.10)\n",
      "Requirement already satisfied: h11>=0.16 in /media/akhilesh/data2/Chunkr/repositories/chunkr-examples/.venv/lib/python3.12/site-packages (from httpcore==1.*->httpx>=0.25.0->chunkr_ai) (0.16.0)\n",
      "Requirement already satisfied: contourpy>=1.0.1 in /media/akhilesh/data2/Chunkr/repositories/chunkr-examples/.venv/lib/python3.12/site-packages (from matplotlib>=3.10.3->chunkr_ai) (1.3.2)\n",
      "Requirement already satisfied: cycler>=0.10 in /media/akhilesh/data2/Chunkr/repositories/chunkr-examples/.venv/lib/python3.12/site-packages (from matplotlib>=3.10.3->chunkr_ai) (0.12.1)\n",
      "Requirement already satisfied: fonttools>=4.22.0 in /media/akhilesh/data2/Chunkr/repositories/chunkr-examples/.venv/lib/python3.12/site-packages (from matplotlib>=3.10.3->chunkr_ai) (4.59.0)\n",
      "Requirement already satisfied: kiwisolver>=1.3.1 in /media/akhilesh/data2/Chunkr/repositories/chunkr-examples/.venv/lib/python3.12/site-packages (from matplotlib>=3.10.3->chunkr_ai) (1.4.8)\n",
      "Requirement already satisfied: pyparsing>=2.3.1 in /media/akhilesh/data2/Chunkr/repositories/chunkr-examples/.venv/lib/python3.12/site-packages (from matplotlib>=3.10.3->chunkr_ai) (3.2.3)\n",
      "Requirement already satisfied: six>=1.5 in /media/akhilesh/data2/Chunkr/repositories/chunkr-examples/.venv/lib/python3.12/site-packages (from python-dateutil>=2.8.2->pandas) (1.17.0)\n",
      "Requirement already satisfied: sniffio>=1.1 in /media/akhilesh/data2/Chunkr/repositories/chunkr-examples/.venv/lib/python3.12/site-packages (from anyio->httpx>=0.25.0->chunkr_ai) (1.3.1)\n",
      "Note: you may need to restart the kernel to use updated packages.\n"
     ]
    }
   ],
   "source": [
    "# Install required packages\n",
    "%pip install chunkr_ai plotly pandas beautifulsoup4 lxml pydantic "
   ]
  },
  {
   "cell_type": "code",
   "execution_count": null,
   "id": "3a6ec5ae",
   "metadata": {},
   "outputs": [],
   "source": [
    "from chunkr_ai import Chunkr\n",
    "chunkr = Chunkr()\n",
    "task = await chunkr.upload(\"https://data.ed.gov/dataset/3683c899-b7b5-4ad4-9b5d-152d197ab389/resource/f5d00bcf-b58e-4914-ba29-a03440e63a9f/download/20action.xlsx\")"
   ]
  },
  {
   "cell_type": "code",
   "execution_count": null,
   "id": "844bec6b",
   "metadata": {},
   "outputs": [],
   "source": [
    "import pandas as pd\n",
    "from bs4 import BeautifulSoup\n",
    "from io import StringIO\n",
    "\n",
    "def parse_table_html(html_content):\n",
    "    \"\"\"\n",
    "    Convert Chunkr HTML table to pandas DataFrame\n",
    "    \"\"\"\n",
    "    soup = BeautifulSoup(html_content, 'html.parser')\n",
    "    thead = soup.find('thead')\n",
    "    \n",
    "    if thead:\n",
    "        num_header_rows = len(thead.find_all('tr'))\n",
    "        header_param = list(range(num_header_rows)) if num_header_rows > 1 else 0\n",
    "    else:\n",
    "        header_param = 0\n",
    "    \n",
    "    tables = pd.read_html(StringIO(html_content), header=header_param)\n",
    "    return tables[0]"
   ]
  },
  {
   "cell_type": "code",
   "execution_count": null,
   "id": "bbbb9b7d",
   "metadata": {},
   "outputs": [
    {
     "name": "stdout",
     "output_type": "stream",
     "text": [
      "\n",
      "Table 1 Headers:\n",
      "[('Education for the Disadvantaged', 'Program'), ('Unnamed: 1_level_0', 'Cat Code'), ('Unnamed: 2_level_0', '2019 Appropriation'), ('Unnamed: 3_level_0', \"2020 President's Budget\"), ('Unnamed: 4_level_0', '2020 House'), ('Unnamed: 5_level_0', '2020 Senate Mark'), ('Unnamed: 6_level_0', '2020 Appropriation'), ('Unnamed: 7_level_0', '2020 Appropriation Compared to 2019 Appropriation Amount'), ('Unnamed: 8_level_0', '2020 Appropriation Compared to 2019 Appropriation Percent'), ('Unnamed: 9_level_0', \"2020 Appropriation Compared to 2020 President's Budget Amount\"), ('Unnamed: 10_level_0', \"2020 Appropriation Compared to 2020 President's Budget Percent\")]\n",
      "\n",
      "Table 2 Headers:\n",
      "[('Impact Aid (ESEA VII)', 'Program'), ('Unnamed: 1_level_0', 'Cat Code'), ('Unnamed: 2_level_0', '2019 Appropriation'), ('Unnamed: 3_level_0', \"2020 President's Budget\"), ('Unnamed: 4_level_0', '2020 House'), ('Unnamed: 5_level_0', '2020 Senate Mark'), ('Unnamed: 6_level_0', '2020 Appropriation'), ('Unnamed: 7_level_0', '2020 Appropriation Compared to 2019 Appropriation Amount'), ('Unnamed: 8_level_0', '2020 Appropriation Compared to 2019 Appropriation Percent'), ('Unnamed: 9_level_0', \"2020 Appropriation Compared to 2020 President's Budget Amount\"), ('Unnamed: 10_level_0', \"2020 Appropriation Compared to 2020 President's Budget Percent\")]\n",
      "\n",
      "Table 3 Headers:\n",
      "[('School Improvement Programs', 'Program'), ('Unnamed: 1_level_0', 'Cat Code'), ('Unnamed: 2_level_0', '2019 Appropriation'), ('Unnamed: 3_level_0', \"2020 President's Budget\"), ('Unnamed: 4_level_0', '2020 House'), ('Unnamed: 5_level_0', '2020 Senate Mark'), ('Unnamed: 6_level_0', '2020 Appropriation'), ('Unnamed: 7_level_0', '2020 Appropriation Compared to 2019 Appropriation Amount'), ('Unnamed: 8_level_0', '2020 Appropriation Compared to 2019 Appropriation Percent'), ('Unnamed: 9_level_0', \"2020 Appropriation Compared to 2020 President's Budget Amount\"), ('Unnamed: 10_level_0', \"2020 Appropriation Compared to 2020 President's Budget Percent\")]\n",
      "\n",
      "Table 4 Headers:\n",
      "[('Safe Schools and Citizenship Education', 'Program'), ('Unnamed: 1_level_0', 'Cat Code'), ('Unnamed: 2_level_0', '2019 Appropriation'), ('Unnamed: 3_level_0', \"2020 President's Budget\"), ('Unnamed: 4_level_0', '2020 House'), ('Unnamed: 5_level_0', '2020 Senate Mark'), ('Unnamed: 6_level_0', '2020 Appropriation'), ('Unnamed: 7_level_0', '2020 Appropriation Compared to 2019 Appropriation Amount'), ('Unnamed: 8_level_0', '2020 Appropriation Compared to 2019 Appropriation Percent'), ('Unnamed: 9_level_0', \"2020 Appropriation Compared to 2020 President's Budget Amount\"), ('Unnamed: 10_level_0', \"2020 Appropriation Compared to 2020 President's Budget Percent\")]\n",
      "\n",
      "Table 5 Headers:\n",
      "[('Indian Education (ESEA VI)', 'Program'), ('Unnamed: 1_level_0', 'Cat Code'), ('Unnamed: 2_level_0', '2019 Appropriation'), ('Unnamed: 3_level_0', \"2020 President's Budget\"), ('Unnamed: 4_level_0', '2020 House'), ('Unnamed: 5_level_0', '2020 Senate Mark'), ('Unnamed: 6_level_0', '2020 Appropriation'), ('Unnamed: 7_level_0', '2020 Appropriation Compared to 2019 Appropriation Amount'), ('Unnamed: 8_level_0', '2020 Appropriation Compared to 2019 Appropriation Percent'), ('Unnamed: 9_level_0', \"2020 Appropriation Compared to 2020 President's Budget Amount\"), ('Unnamed: 10_level_0', \"2020 Appropriation Compared to 2020 President's Budget Percent\")]\n",
      "\n",
      "Table 6 Headers:\n",
      "[('Innovation and Improvement', 'Program'), ('Unnamed: 1_level_0', 'Cat Code'), ('Unnamed: 2_level_0', '2019 Appropriation'), ('Unnamed: 3_level_0', \"2020 President's Budget\"), ('Unnamed: 4_level_0', '2020 House'), ('Unnamed: 5_level_0', '2020 Senate Mark'), ('Unnamed: 6_level_0', '2020 Appropriation'), ('Unnamed: 7_level_0', '2020 Appropriation Compared to 2019 Appropriation Amount'), ('Unnamed: 8_level_0', '2020 Appropriation Compared to 2019 Appropriation Percent'), ('Unnamed: 9_level_0', \"2020 Appropriation Compared to 2020 President's Budget Amount\"), ('Unnamed: 10_level_0', \"2020 Appropriation Compared to 2020 President's Budget Percent\")]\n",
      "\n",
      "Table 7 Headers:\n",
      "[('English Language Acquisition (ESEA III-A)', 'Program'), ('Unnamed: 1_level_0', 'Cat Code'), ('Unnamed: 2_level_0', '2019 Appropriation'), ('Unnamed: 3_level_0', \"2020 President's Budget\"), ('Unnamed: 4_level_0', '2020 House'), ('Unnamed: 5_level_0', '2020 Senate Mark'), ('Unnamed: 6_level_0', '2020 Appropriation'), ('Unnamed: 7_level_0', '2020 Appropriation Compared to 2019 Appropriation Amount'), ('Unnamed: 8_level_0', '2020 Appropriation Compared to 2019 Appropriation Percent'), ('Unnamed: 9_level_0', \"2020 Appropriation Compared to 2020 President's Budget Amount\"), ('Unnamed: 10_level_0', \"2020 Appropriation Compared to 2020 President's Budget Percent\")]\n",
      "\n",
      "Table 8 Headers:\n",
      "[('Special Education', 'Program'), ('Unnamed: 1_level_0', 'Cat Code'), ('Unnamed: 2_level_0', '2019 Appropriation'), ('Unnamed: 3_level_0', \"2020 President's Budget\"), ('Unnamed: 4_level_0', '2020 House'), ('Unnamed: 5_level_0', '2020 Senate Mark'), ('Unnamed: 6_level_0', '2020 Appropriation'), ('Unnamed: 7_level_0', '2020 Appropriation Compared to 2019 Appropriation Amount'), ('Unnamed: 8_level_0', '2020 Appropriation Compared to 2019 Appropriation Percent'), ('Unnamed: 9_level_0', \"2020 Appropriation Compared to 2020 President's Budget Amount\"), ('Unnamed: 10_level_0', \"2020 Appropriation Compared to 2020 President's Budget Percent\")]\n",
      "\n",
      "Table 9 Headers:\n",
      "[('Rehabilitation Services', 'Program'), ('Unnamed: 1_level_0', 'Cat Code'), ('Unnamed: 2_level_0', '2019 Appropriation'), ('Unnamed: 3_level_0', \"2020 President's Budget\"), ('Unnamed: 4_level_0', '2020 House'), ('Unnamed: 5_level_0', '2020 Senate Mark'), ('Unnamed: 6_level_0', '2020 Appropriation'), ('Unnamed: 7_level_0', '2020 Appropriation Compared to 2019 Appropriation Amount'), ('Unnamed: 8_level_0', '2020 Appropriation Compared to 2019 Appropriation Percent'), ('Unnamed: 9_level_0', \"2020 Appropriation Compared to 2020 President's Budget Amount\"), ('Unnamed: 10_level_0', \"2020 Appropriation Compared to 2020 President's Budget Percent\")]\n",
      "\n",
      "Table 10 Headers:\n",
      "[('American Printing House for the Blind (20 U.S.C. 101 et seq.)', 'Program'), ('Unnamed: 1_level_0', 'Cat Code'), ('Unnamed: 2_level_0', '2019 Appropriation'), ('Unnamed: 3_level_0', \"2020 President's Budget\"), ('Unnamed: 4_level_0', '2020 House'), ('Unnamed: 5_level_0', '2020 Senate Mark'), ('Unnamed: 6_level_0', '2020 Appropriation'), ('Unnamed: 7_level_0', '2020 Appropriation Compared to 2019 Appropriation Amount'), ('Unnamed: 8_level_0', '2020 Appropriation Compared to 2019 Appropriation Percent'), ('Unnamed: 9_level_0', \"2020 Appropriation Compared to 2020 President's Budget Amount\"), ('Unnamed: 10_level_0', \"2020 Appropriation Compared to 2020 President's Budget Percent\")]\n",
      "\n",
      "Table 11 Headers:\n",
      "[('National Technical Institute for the Deaf (EDA I-B and section 207)', 'Program'), ('Unnamed: 1_level_0', 'Cat Code'), ('Unnamed: 2_level_0', '2019 Appropriation'), ('Unnamed: 3_level_0', \"2020 President's Budget\"), ('Unnamed: 4_level_0', '2020 House'), ('Unnamed: 5_level_0', '2020 Senate Mark'), ('Unnamed: 6_level_0', '2020 Appropriation'), ('Unnamed: 7_level_0', '2020 Appropriation Compared to 2019 Appropriation Amount'), ('Unnamed: 8_level_0', '2020 Appropriation Compared to 2019 Appropriation Percent'), ('Unnamed: 9_level_0', \"2020 Appropriation Compared to 2020 President's Budget Amount\"), ('Unnamed: 10_level_0', \"2020 Appropriation Compared to 2020 President's Budget Percent\")]\n",
      "\n",
      "Table 12 Headers:\n",
      "[('Gallaudet University (EDA I-A and section 207)', 'Program'), ('Unnamed: 1_level_0', 'Cat Code'), ('Unnamed: 2_level_0', '2019 Appropriation'), ('Unnamed: 3_level_0', \"2020 President's Budget\"), ('Unnamed: 4_level_0', '2020 House'), ('Unnamed: 5_level_0', '2020 Senate Mark'), ('Unnamed: 6_level_0', '2020 Appropriation'), ('Unnamed: 7_level_0', '2020 Appropriation Compared to 2019 Appropriation Amount'), ('Unnamed: 8_level_0', '2020 Appropriation Compared to 2019 Appropriation Percent'), ('Unnamed: 9_level_0', \"2020 Appropriation Compared to 2020 President's Budget Amount\"), ('Unnamed: 10_level_0', \"2020 Appropriation Compared to 2020 President's Budget Percent\")]\n",
      "\n",
      "Table 13 Headers:\n",
      "[('Career, Technical, and Adult Education', 'Program'), ('Unnamed: 1_level_0', 'Cat Code'), ('Unnamed: 2_level_0', '2019 Appropriation'), ('Unnamed: 3_level_0', \"2020 President's Budget\"), ('Unnamed: 4_level_0', '2020 House'), ('Unnamed: 5_level_0', '2020 Senate Mark'), ('Unnamed: 6_level_0', '2020 Appropriation'), ('Unnamed: 7_level_0', '2020 Appropriation Compared to 2019 Appropriation Amount'), ('Unnamed: 8_level_0', '2020 Appropriation Compared to 2019 Appropriation Percent'), ('Unnamed: 9_level_0', \"2020 Appropriation Compared to 2020 President's Budget Amount\"), ('Unnamed: 10_level_0', \"2020 Appropriation Compared to 2020 President's Budget Percent\")]\n",
      "\n",
      "Table 14 Headers:\n",
      "[('Student Financial Assistance', 'Program'), ('Unnamed: 1_level_0', 'Cat Code'), ('Unnamed: 2_level_0', '2019 Appropriation'), ('Unnamed: 3_level_0', \"2020 President's Budget\"), ('Unnamed: 4_level_0', '2020 House'), ('Unnamed: 5_level_0', '2020 Senate Mark'), ('Unnamed: 6_level_0', '2020 Appropriation'), ('Unnamed: 7_level_0', '2020 Appropriation Compared to 2019 Appropriation Amount'), ('Unnamed: 8_level_0', '2020 Appropriation Compared to 2019 Appropriation Percent'), ('Unnamed: 9_level_0', \"2020 Appropriation Compared to 2020 President's Budget Amount\"), ('Unnamed: 10_level_0', \"2020 Appropriation Compared to 2020 President's Budget Percent\")]\n",
      "\n",
      "Table 15 Headers:\n",
      "['Federal Pell Grants Program Information (memorandum entry):', 'Unnamed: 1', 'Unnamed: 2', 'Unnamed: 3', 'Unnamed: 4', 'Unnamed: 5', 'Unnamed: 6', 'Unnamed: 7', 'Unnamed: 8', 'Unnamed: 9', 'Unnamed: 10']\n",
      "\n",
      "Table 16 Headers:\n",
      "[('Student Financial Assistance (continued)', 'Program'), ('Unnamed: 1_level_0', 'Cat Code'), ('Unnamed: 2_level_0', '2019 Appropriation'), ('Unnamed: 3_level_0', \"2020 President's Budget\"), ('Unnamed: 4_level_0', '2020 House'), ('Unnamed: 5_level_0', '2020 Senate Mark'), ('Unnamed: 6_level_0', '2020 Appropriation'), ('Unnamed: 7_level_0', '2020 Appropriation Compared to 2019 Appropriation Amount'), ('Unnamed: 8_level_0', '2020 Appropriation Compared to 2019 Appropriation Percent'), ('Unnamed: 9_level_0', \"2020 Appropriation Compared to 2020 President's Budget Amount\"), ('Unnamed: 10_level_0', \"2020 Appropriation Compared to 2020 President's Budget Percent\")]\n",
      "\n",
      "Table 17 Headers:\n",
      "[('TEACH Grants (HEA IV-A-9)', 'Program'), ('Unnamed: 1_level_0', 'Cat Code'), ('Unnamed: 2_level_0', '2019 Appropriation'), ('Unnamed: 3_level_0', \"2020 President's Budget\"), ('Unnamed: 4_level_0', '2020 House'), ('Unnamed: 5_level_0', '2020 Senate Mark'), ('Unnamed: 6_level_0', '2020 Appropriation'), ('Unnamed: 7_level_0', '2020 Appropriation Compared to 2019 Appropriation Amount'), ('Unnamed: 8_level_0', '2020 Appropriation Compared to 2019 Appropriation Percent'), ('Unnamed: 9_level_0', \"2020 Appropriation Compared to 2020 President's Budget Amount\"), ('Unnamed: 10_level_0', \"2020 Appropriation Compared to 2020 President's Budget Percent\")]\n",
      "\n",
      "Table 18 Headers:\n",
      "[('Federal Direct Student Loans Program Account (HEA IV-D)', 'Program'), ('Unnamed: 1_level_0', 'Cat Code'), ('Unnamed: 2_level_0', '2019 Appropriation'), ('Unnamed: 3_level_0', \"2020 President's Budget\"), ('Unnamed: 4_level_0', '2020 House'), ('Unnamed: 5_level_0', '2020 Senate Mark'), ('Unnamed: 6_level_0', '2020 Appropriation'), ('Unnamed: 7_level_0', '2020 Appropriation Compared to 2019 Appropriation Amount'), ('Unnamed: 8_level_0', '2020 Appropriation Compared to 2019 Appropriation Percent'), ('Unnamed: 9_level_0', \"2020 Appropriation Compared to 2020 President's Budget Amount\"), ('Unnamed: 10_level_0', \"2020 Appropriation Compared to 2020 President's Budget Percent\")]\n",
      "\n",
      "Table 19 Headers:\n",
      "[('Federal Family Education Loans Program Account (HEA IV-B)', 'Program'), ('Unnamed: 1_level_0', 'Cat Code'), ('Unnamed: 2_level_0', '2019 Appropriation'), ('Unnamed: 3_level_0', \"2020 President's Budget\"), ('Unnamed: 4_level_0', '2020 House'), ('Unnamed: 5_level_0', '2020 Senate Mark'), ('Unnamed: 6_level_0', '2020 Appropriation'), ('Unnamed: 7_level_0', '2020 Appropriation Compared to 2019 Appropriation Amount'), ('Unnamed: 8_level_0', '2020 Appropriation Compared to 2019 Appropriation Percent'), ('Unnamed: 9_level_0', \"2020 Appropriation Compared to 2020 President's Budget Amount\"), ('Unnamed: 10_level_0', \"2020 Appropriation Compared to 2020 President's Budget Percent\")]\n",
      "\n",
      "Table 20 Headers:\n",
      "[('Federal Family Education Loans Liquidating Account (HEA IV-B)', 'Program'), ('Unnamed: 1_level_0', 'Cat Code'), ('Unnamed: 2_level_0', '2019 Appropriation'), ('Unnamed: 3_level_0', \"2020 President's Budget\"), ('Unnamed: 4_level_0', '2020 House'), ('Unnamed: 5_level_0', '2020 Senate Mark'), ('Unnamed: 6_level_0', '2020 Appropriation'), ('Unnamed: 7_level_0', '2020 Appropriation Compared to 2019 Appropriation Amount'), ('Unnamed: 8_level_0', '2020 Appropriation Compared to 2019 Appropriation Percent'), ('Unnamed: 9_level_0', \"2020 Appropriation Compared to 2020 President's Budget Amount\"), ('Unnamed: 10_level_0', \"2020 Appropriation Compared to 2020 President's Budget Percent\")]\n",
      "\n",
      "Table 21 Headers:\n",
      "[('Health Education Assistance Loans Liquidating Account', 'Program'), ('Unnamed: 1_level_0', 'Cat Code'), ('Unnamed: 2_level_0', '2019 Appropriation'), ('Unnamed: 3_level_0', \"2020 President's Budget\"), ('Unnamed: 4_level_0', '2020 House'), ('Unnamed: 5_level_0', '2020 Senate Mark'), ('Unnamed: 6_level_0', '2020 Appropriation'), ('Unnamed: 7_level_0', '2020 Appropriation Compared to 2019 Appropriation Amount'), ('Unnamed: 8_level_0', '2020 Appropriation Compared to 2019 Appropriation Percent'), ('Unnamed: 9_level_0', \"2020 Appropriation Compared to 2020 President's Budget Amount\"), ('Unnamed: 10_level_0', \"2020 Appropriation Compared to 2020 President's Budget Percent\")]\n",
      "\n",
      "Table 22 Headers:\n",
      "[('Higher Education', 'Program'), ('Unnamed: 1_level_0', 'Cat Code'), ('Unnamed: 2_level_0', '2019 Appropriation'), ('Unnamed: 3_level_0', \"2020 President's Budget\"), ('Unnamed: 4_level_0', '2020 House'), ('Unnamed: 5_level_0', '2020 Senate Mark'), ('Unnamed: 6_level_0', '2020 Appropriation'), ('Unnamed: 7_level_0', '2020 Appropriation Compared to 2019 Appropriation Amount'), ('Unnamed: 8_level_0', '2020 Appropriation Compared to 2019 Appropriation Percent'), ('Unnamed: 9_level_0', \"2020 Appropriation Compared to 2020 President's Budget Amount\"), ('Unnamed: 10_level_0', \"2020 Appropriation Compared to 2020 President's Budget Percent\")]\n",
      "\n",
      "Table 23 Headers:\n",
      "[('Higher Education (continued)', 'Program'), ('Unnamed: 1_level_0', 'Cat Code'), ('Unnamed: 2_level_0', '2019 Appropriation'), ('Unnamed: 3_level_0', \"2020 President's Budget\"), ('Unnamed: 4_level_0', '2020 House'), ('Unnamed: 5_level_0', '2020 Senate Mark'), ('Unnamed: 6_level_0', '2020 Appropriation'), ('Unnamed: 7_level_0', '2020 Appropriation Compared to 2019 Appropriation Amount'), ('Unnamed: 8_level_0', '2020 Appropriation Compared to 2019 Appropriation Percent'), ('Unnamed: 9_level_0', \"2020 Appropriation Compared to 2020 President's Budget Amount\"), ('Unnamed: 10_level_0', \"2020 Appropriation Compared to 2020 President's Budget Percent\")]\n",
      "\n",
      "Table 24 Headers:\n",
      "[('Howard University', 'Program'), ('Unnamed: 1_level_0', 'Cat Code'), ('Unnamed: 2_level_0', '2019 Appropriation'), ('Unnamed: 3_level_0', \"2020 President's Budget\"), ('Unnamed: 4_level_0', '2020 House'), ('Unnamed: 5_level_0', '2020 Senate Mark'), ('Unnamed: 6_level_0', '2020 Appropriation'), ('Unnamed: 7_level_0', '2020 Appropriation Compared to 2019 Appropriation Amount'), ('Unnamed: 8_level_0', '2020 Appropriation Compared to 2019 Appropriation Percent'), ('Unnamed: 9_level_0', \"2020 Appropriation Compared to 2020 President's Budget Amount\"), ('Unnamed: 10_level_0', \"2020 Appropriation Compared to 2020 President's Budget Percent\")]\n",
      "\n",
      "Table 25 Headers:\n",
      "[('College Housing and Academic Facilities Loans Program Account (HEA section 121)', 'Program'), ('Unnamed: 1_level_0', 'Cat Code'), ('Unnamed: 2_level_0', '2019 Appropriation'), ('Unnamed: 3_level_0', \"2020 President's Budget\"), ('Unnamed: 4_level_0', '2020 House'), ('Unnamed: 5_level_0', '2020 Senate Mark'), ('Unnamed: 6_level_0', '2020 Appropriation'), ('Unnamed: 7_level_0', '2020 Appropriation Compared to 2019 Appropriation Amount'), ('Unnamed: 8_level_0', '2020 Appropriation Compared to 2019 Appropriation Percent'), ('Unnamed: 9_level_0', \"2020 Appropriation Compared to 2020 President's Budget Amount\"), ('Unnamed: 10_level_0', \"2020 Appropriation Compared to 2020 President's Budget Percent\")]\n",
      "\n",
      "Table 26 Headers:\n",
      "[('College Housing and Academic Facilities Loans Liquidating Account (HEA section 121)', 'Program'), ('Unnamed: 1_level_0', 'Cat Code'), ('Unnamed: 2_level_0', '2019 Appropriation'), ('Unnamed: 3_level_0', \"2020 President's Budget\"), ('Unnamed: 4_level_0', '2020 House'), ('Unnamed: 5_level_0', '2020 Senate Mark'), ('Unnamed: 6_level_0', '2020 Appropriation'), ('Unnamed: 7_level_0', '2020 Appropriation Compared to 2019 Appropriation Amount'), ('Unnamed: 8_level_0', '2020 Appropriation Compared to 2019 Appropriation Percent'), ('Unnamed: 9_level_0', \"2020 Appropriation Compared to 2020 President's Budget Amount\"), ('Unnamed: 10_level_0', \"2020 Appropriation Compared to 2020 President's Budget Percent\")]\n",
      "\n",
      "Table 27 Headers:\n",
      "[('Historically Black College and University Capital Financing Program Account (HEA III-D)', 'Program'), ('Unnamed: 1_level_0', 'Cat Code'), ('Unnamed: 2_level_0', '2019 Appropriation'), ('Unnamed: 3_level_0', \"2020 President's Budget\"), ('Unnamed: 4_level_0', '2020 House'), ('Unnamed: 5_level_0', '2020 Senate Mark'), ('Unnamed: 6_level_0', '2020 Appropriation'), ('Unnamed: 7_level_0', '2020 Appropriation Compared to 2019 Appropriation Amount'), ('Unnamed: 8_level_0', '2020 Appropriation Compared to 2019 Appropriation Percent'), ('Unnamed: 9_level_0', \"2020 Appropriation Compared to 2020 President's Budget Amount\"), ('Unnamed: 10_level_0', \"2020 Appropriation Compared to 2020 President's Budget Percent\")]\n",
      "\n",
      "Table 28 Headers:\n",
      "[('Higher Education Facilities Loans Liquidating Account (HEA section 121)', 'Program'), ('Unnamed: 1_level_0', 'Cat Code'), ('Unnamed: 2_level_0', '2019 Appropriation'), ('Unnamed: 3_level_0', \"2020 President's Budget\"), ('Unnamed: 4_level_0', '2020 House'), ('Unnamed: 5_level_0', '2020 Senate Mark'), ('Unnamed: 6_level_0', '2020 Appropriation'), ('Unnamed: 7_level_0', '2020 Appropriation Compared to 2019 Appropriation Amount'), ('Unnamed: 8_level_0', '2020 Appropriation Compared to 2019 Appropriation Percent'), ('Unnamed: 9_level_0', \"2020 Appropriation Compared to 2020 President's Budget Amount\"), ('Unnamed: 10_level_0', \"2020 Appropriation Compared to 2020 President's Budget Percent\")]\n",
      "\n",
      "Table 29 Headers:\n",
      "[('College Housing Loans Liquidating Account (HEA section 121)', 'Program'), ('Unnamed: 1_level_0', 'Cat Code'), ('Unnamed: 2_level_0', '2019 Appropriation'), ('Unnamed: 3_level_0', \"2020 President's Budget\"), ('Unnamed: 4_level_0', '2020 House'), ('Unnamed: 5_level_0', '2020 Senate Mark'), ('Unnamed: 6_level_0', '2020 Appropriation'), ('Unnamed: 7_level_0', '2020 Appropriation Compared to 2019 Appropriation Amount'), ('Unnamed: 8_level_0', '2020 Appropriation Compared to 2019 Appropriation Percent'), ('Unnamed: 9_level_0', \"2020 Appropriation Compared to 2020 President's Budget Amount\"), ('Unnamed: 10_level_0', \"2020 Appropriation Compared to 2020 President's Budget Percent\")]\n",
      "\n",
      "Table 30 Headers:\n",
      "[('Institute of Education Sciences', 'Program'), ('Unnamed: 1_level_0', 'Cat Code'), ('Unnamed: 2_level_0', '2019 Appropriation'), ('Unnamed: 3_level_0', \"2020 President's Budget\"), ('Unnamed: 4_level_0', '2020 House'), ('Unnamed: 5_level_0', '2020 Senate Mark'), ('Unnamed: 6_level_0', '2020 Appropriation'), ('Unnamed: 7_level_0', '2020 Appropriation Compared to 2019 Appropriation Amount'), ('Unnamed: 8_level_0', '2020 Appropriation Compared to 2019 Appropriation Percent'), ('Unnamed: 9_level_0', \"2020 Appropriation Compared to 2020 President's Budget Amount\"), ('Unnamed: 10_level_0', \"2020 Appropriation Compared to 2020 President's Budget Percent\")]\n",
      "\n",
      "Table 31 Headers:\n",
      "[('Program Administration (DEOA)', 'Program'), ('Unnamed: 1_level_0', 'Cat Code'), ('Unnamed: 2_level_0', '2019 Appropriation'), ('Unnamed: 3_level_0', \"2020 President's Budget\"), ('Unnamed: 4_level_0', '2020 House'), ('Unnamed: 5_level_0', '2020 Senate Mark'), ('Unnamed: 6_level_0', '2020 Appropriation'), ('Unnamed: 7_level_0', '2020 Appropriation Compared to 2019 Appropriation Amount'), ('Unnamed: 8_level_0', '2020 Appropriation Compared to 2019 Appropriation Percent'), ('Unnamed: 9_level_0', \"2020 Appropriation Compared to 2020 President's Budget Amount\"), ('Unnamed: 10_level_0', \"2020 Appropriation Compared to 2020 President's Budget Percent\")]\n",
      "\n",
      "Table 32 Headers:\n",
      "[('Student Aid Administration (HEA I-D)', 'Program'), ('Unnamed: 1_level_0', 'Cat Code'), ('Unnamed: 2_level_0', '2019 Appropriation'), ('Unnamed: 3_level_0', \"2020 President's Budget\"), ('Unnamed: 4_level_0', '2020 House'), ('Unnamed: 5_level_0', '2020 Senate Mark'), ('Unnamed: 6_level_0', '2020 Appropriation'), ('Unnamed: 7_level_0', '2020 Appropriation Compared to 2019 Appropriation Amount'), ('Unnamed: 8_level_0', '2020 Appropriation Compared to 2019 Appropriation Percent'), ('Unnamed: 9_level_0', \"2020 Appropriation Compared to 2020 President's Budget Amount\"), ('Unnamed: 10_level_0', \"2020 Appropriation Compared to 2020 President's Budget Percent\")]\n",
      "\n",
      "Table 33 Headers:\n",
      "[('Office for Civil Rights (DEOA, section 203)', 'Program'), ('Unnamed: 1_level_0', 'Cat Code'), ('Unnamed: 2_level_0', '2019 Appropriation'), ('Unnamed: 3_level_0', \"2020 President's Budget\"), ('Unnamed: 4_level_0', '2020 House'), ('Unnamed: 5_level_0', '2020 Senate Mark'), ('Unnamed: 6_level_0', '2020 Appropriation'), ('Unnamed: 7_level_0', '2020 Appropriation Compared to 2019 Appropriation Amount'), ('Unnamed: 8_level_0', '2020 Appropriation Compared to 2019 Appropriation Percent'), ('Unnamed: 9_level_0', \"2020 Appropriation Compared to 2020 President's Budget Amount\"), ('Unnamed: 10_level_0', \"2020 Appropriation Compared to 2020 President's Budget Percent\")]\n",
      "\n",
      "Table 34 Headers:\n",
      "[('Office of Inspector General (DEOA, section 211)', 'Program'), ('Unnamed: 1_level_0', 'Cat Code'), ('Unnamed: 2_level_0', '2019 Appropriation'), ('Unnamed: 3_level_0', \"2020 President's Budget\"), ('Unnamed: 4_level_0', '2020 House'), ('Unnamed: 5_level_0', '2020 Senate Mark'), ('Unnamed: 6_level_0', '2020 Appropriation'), ('Unnamed: 7_level_0', '2020 Appropriation Compared to 2019 Appropriation Amount'), ('Unnamed: 8_level_0', '2020 Appropriation Compared to 2019 Appropriation Percent'), ('Unnamed: 9_level_0', \"2020 Appropriation Compared to 2020 President's Budget Amount\"), ('Unnamed: 10_level_0', \"2020 Appropriation Compared to 2020 President's Budget Percent\")]\n",
      "\n",
      "Table 35 Headers:\n",
      "[('Contributions (DEOA, section 421)', 'Program'), ('Unnamed: 1_level_0', 'Cat Code'), ('Unnamed: 2_level_0', '2019 Appropriation'), ('Unnamed: 3_level_0', \"2020 President's Budget\"), ('Unnamed: 4_level_0', '2020 House'), ('Unnamed: 5_level_0', '2020 Senate Mark'), ('Unnamed: 6_level_0', '2020 Appropriation'), ('Unnamed: 7_level_0', '2020 Appropriation Compared to 2019 Appropriation Amount'), ('Unnamed: 8_level_0', '2020 Appropriation Compared to 2019 Appropriation Percent'), ('Unnamed: 9_level_0', \"2020 Appropriation Compared to 2020 President's Budget Amount\"), ('Unnamed: 10_level_0', \"2020 Appropriation Compared to 2020 President's Budget Percent\")]\n",
      "\n",
      "Table 36 Headers:\n",
      "[('General Fund Receipts', 'Program'), ('Unnamed: 1_level_0', 'Cat Code'), ('Unnamed: 2_level_0', '2019 Appropriation'), ('Unnamed: 3_level_0', \"2020 President's Budget\"), ('Unnamed: 4_level_0', '2020 House'), ('Unnamed: 5_level_0', '2020 Senate Mark'), ('Unnamed: 6_level_0', '2020 Appropriation'), ('Unnamed: 7_level_0', '2020 Appropriation Compared to 2019 Appropriation Amount'), ('Unnamed: 8_level_0', '2020 Appropriation Compared to 2019 Appropriation Percent'), ('Unnamed: 9_level_0', \"2020 Appropriation Compared to 2020 President's Budget Amount\"), ('Unnamed: 10_level_0', \"2020 Appropriation Compared to 2020 President's Budget Percent\")]\n",
      "\n",
      "Table 37 Headers:\n",
      "[('Special Fund Receipts', 'Program'), ('Unnamed: 1_level_0', 'Cat Code'), ('Unnamed: 2_level_0', '2019 Appropriation'), ('Unnamed: 3_level_0', \"2020 President's Budget\"), ('Unnamed: 4_level_0', '2020 House'), ('Unnamed: 5_level_0', '2020 Senate Mark'), ('Unnamed: 6_level_0', '2020 Appropriation'), ('Unnamed: 7_level_0', '2020 Appropriation Compared to 2019 Appropriation Amount'), ('Unnamed: 8_level_0', '2020 Appropriation Compared to 2019 Appropriation Percent'), ('Unnamed: 9_level_0', \"2020 Appropriation Compared to 2020 President's Budget Amount\"), ('Unnamed: 10_level_0', \"2020 Appropriation Compared to 2020 President's Budget Percent\")]\n",
      "\n",
      "Table 38 Headers:\n",
      "[('DISCRETIONARY APPROPRIATION', 'Program'), ('Unnamed: 1_level_0', 'Cat Code'), ('Unnamed: 2_level_0', '2019 Appropriation'), ('Unnamed: 3_level_0', \"2020 President's Budget\"), ('Unnamed: 4_level_0', '2020 House'), ('Unnamed: 5_level_0', '2020 Senate Mark'), ('Unnamed: 6_level_0', '2020 Appropriation'), ('Unnamed: 7_level_0', '2020 Appropriation Compared to 2019 Appropriation Amount'), ('Unnamed: 8_level_0', '2020 Appropriation Compared to 2019 Appropriation Percent'), ('Unnamed: 9_level_0', \"2020 Appropriation Compared to 2020 President's Budget Amount\"), ('Unnamed: 10_level_0', \"2020 Appropriation Compared to 2020 President's Budget Percent\")]\n"
     ]
    }
   ],
   "source": [
    "from pydantic import BaseModel, Field, ConfigDict\n",
    "from chunkr_ai.models import Segment\n",
    "import uuid\n",
    "\n",
    "class Table(BaseModel):\n",
    "    model_config = ConfigDict(arbitrary_types_allowed=True)\n",
    "    \n",
    "    id: str = Field(default_factory=lambda: str(uuid.uuid4()))\n",
    "    segment: Segment\n",
    "    df: pd.DataFrame\n",
    "\n",
    "tables = [\n",
    "    Table(segment=segment, df=parse_table_html(segment.content))\n",
    "    for chunk in task.output.chunks\n",
    "    for segment in chunk.segments\n",
    "    if segment.segment_type == \"Table\"\n",
    "]"
   ]
  },
  {
   "cell_type": "code",
   "execution_count": null,
   "id": "2e17e145",
   "metadata": {},
   "outputs": [
    {
     "name": "stdout",
     "output_type": "stream",
     "text": [
      "Program: Education for the Disadvantaged\n",
      "Category Code: D\n",
      "2019 Appropriation: $16,543,790.00\n",
      "2020 President's Budget: $16,376,790.00\n",
      "2020 House: $17,563,802.00\n",
      "2020 Senate Mark: $16,543,790.00\n",
      "2020 Appropriation: $16,996,790.00\n",
      "Change from 2019 (Amount): $453,000.00\n",
      "Change from 2019 (Percent): 2.74%\n",
      "Change from President's Budget (Amount): $620,000.00\n",
      "Change from President's Budget (Percent): 3.79%\n",
      "--------------------------------------------------------------------------------\n",
      "Program: Impact Aid (ESEA VII)\n",
      "Category Code: D\n",
      "2019 Appropriation: $1,446,112.00\n",
      "2020 President's Budget: $1,371,799.00\n",
      "2020 House: $1,498,112.00\n",
      "2020 Senate Mark: $1,471,112.00\n",
      "2020 Appropriation: $1,486,112.00\n",
      "Change from 2019 (Amount): $40,000.00\n",
      "Change from 2019 (Percent): 2.77%\n",
      "Change from President's Budget (Amount): $114,313.00\n",
      "Change from President's Budget (Percent): 8.33%\n",
      "--------------------------------------------------------------------------------\n",
      "Program: School Improvement Programs\n",
      "Category Code: D\n",
      "2019 Appropriation: $5,246,967.00\n",
      "2020 President's Budget: $675,614.00\n",
      "2020 House: $6,016,470.00\n",
      "2020 Senate Mark: $5,305,967.00\n",
      "2020 Appropriation: $5,404,967.00\n",
      "Change from 2019 (Amount): $158,000.00\n",
      "Change from 2019 (Percent): 3.01%\n",
      "Change from President's Budget (Amount): $4,729,353.00\n",
      "Change from President's Budget (Percent): 700.01%\n",
      "--------------------------------------------------------------------------------\n",
      "Program: Safe Schools and Citizenship Education\n",
      "Category Code: D\n",
      "2019 Appropriation: $190,754.00\n",
      "2020 President's Budget: $200,000.00\n",
      "2020 House: $320,000.00\n",
      "2020 Senate Mark: $183,254.00\n",
      "2020 Appropriation: $210,000.00\n",
      "Change from 2019 (Amount): $19,246.00\n",
      "Change from 2019 (Percent): 10.09%\n",
      "Change from President's Budget (Amount): $10,000.00\n",
      "Change from President's Budget (Percent): 5.00%\n",
      "--------------------------------------------------------------------------------\n",
      "Program: Indian Education (ESEA VI)\n",
      "Category Code: D\n",
      "2019 Appropriation: $180,239.00\n",
      "2020 President's Budget: $176,239.00\n",
      "2020 House: $186,374.00\n",
      "2020 Senate Mark: $180,739.00\n",
      "2020 Appropriation: $180,739.00\n",
      "Change from 2019 (Amount): $500.00\n",
      "Change from 2019 (Percent): 0.28%\n",
      "Change from President's Budget (Amount): $4,500.00\n",
      "Change from President's Budget (Percent): 2.55%\n",
      "--------------------------------------------------------------------------------\n",
      "Program: Innovation and Improvement\n",
      "Category Code: D\n",
      "2019 Appropriation: $1,035,556.00\n",
      "2020 President's Budget: $1,107,000.00\n",
      "2020 House: $1,224,315.00\n",
      "2020 Senate Mark: $1,055,556.00\n",
      "2020 Appropriation: $1,103,815.00\n",
      "Change from 2019 (Amount): $68,259.00\n",
      "Change from 2019 (Percent): 6.59%\n",
      "Change from President's Budget (Amount): $-3,185.00\n",
      "Change from President's Budget (Percent): (0.29%)\n",
      "--------------------------------------------------------------------------------\n",
      "Program: English Language Acquisition (ESEA III-A)\n",
      "Category Code: D\n",
      "2019 Appropriation: $737,400.00\n",
      "2020 President's Budget: $737,400.00\n",
      "2020 House: $980,000.00\n",
      "2020 Senate Mark: $737,400.00\n",
      "2020 Appropriation: $787,400.00\n",
      "Change from 2019 (Amount): $50,000.00\n",
      "Change from 2019 (Percent): 6.78%\n",
      "Change from President's Budget (Amount): $50,000.00\n",
      "Change from President's Budget (Percent): 6.78%\n",
      "--------------------------------------------------------------------------------\n",
      "Program: Special Education\n",
      "Category Code: D\n",
      "2019 Appropriation: $13,468,728.00\n",
      "2020 President's Budget: $13,468,728.00\n",
      "2020 House: $14,523,544.00\n",
      "2020 Senate Mark: $13,473,228.00\n",
      "2020 Appropriation: $13,885,228.00\n",
      "Change from 2019 (Amount): $416,500.00\n",
      "Change from 2019 (Percent): 3.09%\n",
      "Change from President's Budget (Amount): $416,500.00\n",
      "Change from President's Budget (Percent): 3.09%\n",
      "--------------------------------------------------------------------------------\n",
      "Program: Rehabilitation Services\n",
      "Category Code: \n",
      "2019 Appropriation: $3,438,826.00\n",
      "2020 President's Budget: $3,719,527.00\n",
      "2020 House: $3,752,076.00\n",
      "2020 Senate Mark: $3,745,239.00\n",
      "2020 Appropriation: $3,534,747.00\n",
      "Change from 2019 (Amount): $95,921.00\n",
      "Change from 2019 (Percent): 2.79%\n",
      "Change from President's Budget (Amount): $-184,780.00\n",
      "Change from President's Budget (Percent): (4.97%)\n",
      "--------------------------------------------------------------------------------\n",
      "Program: American Printing House for the Blind (20 U.S.C. 101 et seq.)\n",
      "Category Code: D\n",
      "2019 Appropriation: $30,431.00\n",
      "2020 President's Budget: $25,431.00\n",
      "2020 House: $39,000.00\n",
      "2020 Senate Mark: $31,931.00\n",
      "2020 Appropriation: $32,431.00\n",
      "Change from 2019 (Amount): $2,000.00\n",
      "Change from 2019 (Percent): 6.57%\n",
      "Change from President's Budget (Amount): $7,000.00\n",
      "Change from President's Budget (Percent): 27.53%\n",
      "--------------------------------------------------------------------------------\n",
      "Program: National Technical Institute for the Deaf (EDA I-B and section 207)\n",
      "Category Code: D\n",
      "2019 Appropriation: $77,500.00\n",
      "2020 President's Budget: $70,016.00\n",
      "2020 House: $80,000.00\n",
      "2020 Senate Mark: $78,500.00\n",
      "2020 Appropriation: $79,500.00\n",
      "Change from 2019 (Amount): $2,000.00\n",
      "Change from 2019 (Percent): 2.58%\n",
      "Change from President's Budget (Amount): $9,484.00\n",
      "Change from President's Budget (Percent): 13.55%\n",
      "--------------------------------------------------------------------------------\n",
      "Program: Gallaudet University (EDA I-A and section 207)\n",
      "Category Code: D\n",
      "2019 Appropriation: $134,361.00\n",
      "2020 President's Budget: $121,275.00\n",
      "2020 House: $138,361.00\n",
      "2020 Senate Mark: $136,361.00\n",
      "2020 Appropriation: $137,361.00\n",
      "Change from 2019 (Amount): $3,000.00\n",
      "Change from 2019 (Percent): 2.23%\n",
      "Change from President's Budget (Amount): $16,086.00\n",
      "Change from President's Budget (Percent): 13.26%\n",
      "--------------------------------------------------------------------------------\n",
      "Program: Career, Technical, and Adult Education\n",
      "Category Code: \n",
      "2019 Appropriation: $1,925,686.00\n",
      "2020 President's Budget: $1,842,159.00\n",
      "2020 House: $2,003,133.00\n",
      "2020 Senate Mark: $1,935,686.00\n",
      "2020 Appropriation: $1,960,686.00\n",
      "Change from 2019 (Amount): $35,000.00\n",
      "Change from 2019 (Percent): 1.82%\n",
      "Change from President's Budget (Amount): $118,527.00\n",
      "Change from President's Budget (Percent): 6.43%\n",
      "--------------------------------------------------------------------------------\n",
      "Program: Student Financial Assistance (continued)\n",
      "Category Code: \n",
      "2019 Appropriation: $31,203,795.00\n",
      "2020 President's Budget: $30,267,352.00\n",
      "2020 House: $32,228,659.00\n",
      "2020 Senate Mark: $31,740,659.00\n",
      "2020 Appropriation: $31,663,815.00\n",
      "Change from 2019 (Amount): $460,020.00\n",
      "Change from 2019 (Percent): 1.47%\n",
      "Change from President's Budget (Amount): $1,396,463.00\n",
      "Change from President's Budget (Percent): 4.61%\n",
      "--------------------------------------------------------------------------------\n",
      "Program: Student Financial Assistance (continued)\n",
      "Category Code: M\n",
      "2019 Appropriation: $34,131.00\n",
      "2020 President's Budget: $29,901.00\n",
      "2020 House: $29,901.00\n",
      "2020 Senate Mark: $29,901.00\n",
      "2020 Appropriation: $39,495.00\n",
      "Change from 2019 (Amount): $5,364.00\n",
      "Change from 2019 (Percent): 15.72%\n",
      "Change from President's Budget (Amount): $9,594.00\n",
      "Change from President's Budget (Percent): 32.09%\n",
      "--------------------------------------------------------------------------------\n",
      "Program: TEACH Grants (HEA IV-A-9)\n",
      "Category Code: M\n",
      "2019 Appropriation: $34,131.00\n",
      "2020 President's Budget: $29,901.00\n",
      "2020 House: $29,901.00\n",
      "2020 Senate Mark: $29,901.00\n",
      "2020 Appropriation: $39,495.00\n",
      "Change from 2019 (Amount): $5,364.00\n",
      "Change from 2019 (Percent): 15.72%\n",
      "Change from President's Budget (Amount): $9,594.00\n",
      "Change from President's Budget (Percent): 32.09%\n",
      "--------------------------------------------------------------------------------\n",
      "Program: Federal Direct Student Loans Program Account (HEA IV-D)\n",
      "Category Code: \n",
      "2019 Appropriation: $33,812,461.00\n",
      "2020 President's Budget: $10,344,101.00\n",
      "2020 House: $13,123,970.00\n",
      "2020 Senate Mark: $12,873,970.00\n",
      "2020 Appropriation: $76,956,947.00\n",
      "Change from 2019 (Amount): $43,144,486.00\n",
      "Change from 2019 (Percent): 127.60%\n",
      "Change from President's Budget (Amount): $66,612,846.00\n",
      "Change from President's Budget (Percent): 643.97%\n",
      "--------------------------------------------------------------------------------\n",
      "Program: Federal Family Education Loans Liquidating Account (HEA IV-B)\n",
      "Category Code: M\n",
      "2019 Appropriation: $-237,229.00\n",
      "2020 President's Budget: $-96,085.00\n",
      "2020 House: $-96,085.00\n",
      "2020 Senate Mark: $-96,085.00\n",
      "2020 Appropriation: $-182,492.00\n",
      "Change from 2019 (Amount): $54,737.00\n",
      "Change from 2019 (Percent): (23.07%)\n",
      "Change from President's Budget (Amount): $-86,407.00\n",
      "Change from President's Budget (Percent): 89.93%\n",
      "--------------------------------------------------------------------------------\n",
      "Program: Health Education Assistance Loans Liquidating Account\n",
      "Category Code: M\n",
      "2019 Appropriation: $-7,059.00\n",
      "2020 President's Budget: $-5,029.00\n",
      "2020 House: $-5,029.00\n",
      "2020 Senate Mark: $-5,029.00\n",
      "2020 Appropriation: $-5,029.00\n",
      "Change from 2019 (Amount): $2,030.00\n",
      "Change from 2019 (Percent): (28.76%)\n",
      "Change from President's Budget (Amount): $0.00\n",
      "Change from President's Budget (Percent): 0.00%\n",
      "--------------------------------------------------------------------------------\n",
      "Program: Higher Education (continued)\n",
      "Category Code: \n",
      "2019 Appropriation: $2,551,546.00\n",
      "2020 President's Budget: $1,534,487.00\n",
      "2020 House: $3,004,033.00\n",
      "2020 Senate Mark: $2,658,356.00\n",
      "2020 Appropriation: $2,715,747.00\n",
      "Change from 2019 (Amount): $164,201.00\n",
      "Change from 2019 (Percent): 6.44%\n",
      "Change from President's Budget (Amount): $1,181,260.00\n",
      "Change from President's Budget (Percent): 76.98%\n",
      "--------------------------------------------------------------------------------\n",
      "Program: Howard University\n",
      "Category Code: D\n",
      "2019 Appropriation: $236,518.00\n",
      "2020 President's Budget: $221,821.00\n",
      "2020 House: $250,000.00\n",
      "2020 Senate Mark: $236,518.00\n",
      "2020 Appropriation: $240,018.00\n",
      "Change from 2019 (Amount): $3,500.00\n",
      "Change from 2019 (Percent): 1.48%\n",
      "Change from President's Budget (Amount): $18,197.00\n",
      "Change from President's Budget (Percent): 8.20%\n",
      "--------------------------------------------------------------------------------\n",
      "Program: College Housing and Academic Facilities Loans Program Account (HEA section 121)\n",
      "Category Code: \n",
      "2019 Appropriation: $425.00\n",
      "2020 President's Budget: $435.00\n",
      "2020 House: $435.00\n",
      "2020 Senate Mark: $435.00\n",
      "2020 Appropriation: $397.00\n",
      "Change from 2019 (Amount): $-28.00\n",
      "Change from 2019 (Percent): (6.59%)\n",
      "Change from President's Budget (Amount): $-38.00\n",
      "Change from President's Budget (Percent): (8.74%)\n",
      "--------------------------------------------------------------------------------\n",
      "Program: College Housing and Academic Facilities Loans Liquidating Account (HEA section 121)\n",
      "Category Code: M\n",
      "2019 Appropriation: $-2,452.00\n",
      "2020 President's Budget: $-364.00\n",
      "2020 House: $-364.00\n",
      "2020 Senate Mark: $-364.00\n",
      "2020 Appropriation: $-3,452.00\n",
      "Change from 2019 (Amount): $-1,000.00\n",
      "Change from 2019 (Percent): 40.78%\n",
      "Change from President's Budget (Amount): $-3,088.00\n",
      "Change from President's Budget (Percent): 848.35%\n",
      "--------------------------------------------------------------------------------\n",
      "Program: Historically Black College and University Capital Financing Program Account (HEA III-D)\n",
      "Category Code: \n",
      "2019 Appropriation: $48,162.00\n",
      "2020 President's Budget: $40,484.00\n",
      "2020 House: $50,484.00\n",
      "2020 Senate Mark: $40,484.00\n",
      "2020 Appropriation: $4,776.00\n",
      "Change from 2019 (Amount): $-43,386.00\n",
      "Change from 2019 (Percent): (90.08%)\n",
      "Change from President's Budget (Amount): $-35,708.00\n",
      "Change from President's Budget (Percent): (88.20%)\n",
      "--------------------------------------------------------------------------------\n",
      "Program: Higher Education Facilities Loans Liquidating Account (HEA section 121)\n",
      "Category Code: M\n",
      "2019 Appropriation: $-601.00\n",
      "2020 President's Budget: $-227.00\n",
      "2020 House: $-227.00\n",
      "2020 Senate Mark: $-227.00\n",
      "2020 Appropriation: $-650.00\n",
      "Change from 2019 (Amount): $-49.00\n",
      "Change from 2019 (Percent): 8.15%\n",
      "Change from President's Budget (Amount): $-423.00\n",
      "Change from President's Budget (Percent): 186.34%\n",
      "--------------------------------------------------------------------------------\n",
      "Program: College Housing Loans Liquidating Account (HEA section 121)\n",
      "Category Code: M\n",
      "2019 Appropriation: $-3,434.00\n",
      "2020 President's Budget: $-1,176.00\n",
      "2020 House: $-1,176.00\n",
      "2020 Senate Mark: $-1,176.00\n",
      "2020 Appropriation: $-3,452.00\n",
      "Change from 2019 (Amount): $-18.00\n",
      "Change from 2019 (Percent): 0.52%\n",
      "Change from President's Budget (Amount): $-2,276.00\n",
      "Change from President's Budget (Percent): 193.54%\n",
      "--------------------------------------------------------------------------------\n",
      "Program: Institute of Education Sciences\n",
      "Category Code: D\n",
      "2019 Appropriation: $615,462.00\n",
      "2020 President's Budget: $521,563.00\n",
      "2020 House: $650,000.00\n",
      "2020 Senate Mark: $615,462.00\n",
      "2020 Appropriation: $623,462.00\n",
      "Change from 2019 (Amount): $8,000.00\n",
      "Change from 2019 (Percent): 1.30%\n",
      "Change from President's Budget (Amount): $101,899.00\n",
      "Change from President's Budget (Percent): 19.54%\n",
      "--------------------------------------------------------------------------------\n",
      "Program: Program Administration (DEOA)\n",
      "Category Code: \n",
      "2019 Appropriation: $430,000.00\n",
      "2020 President's Budget: $447,000.00\n",
      "2020 House: $424,000.00\n",
      "2020 Senate Mark: $430,000.00\n",
      "2020 Appropriation: $430,000.00\n",
      "Change from 2019 (Amount): $0.00\n",
      "Change from 2019 (Percent): 0.00%\n",
      "Change from President's Budget (Amount): $-17,000.00\n",
      "Change from President's Budget (Percent): (3.80%)\n",
      "--------------------------------------------------------------------------------\n",
      "Program: Student Aid Administration (HEA I-D)\n",
      "Category Code: \n",
      "2019 Appropriation: $1,678,943.00\n",
      "2020 President's Budget: $1,812,000.00\n",
      "2020 House: $1,678,943.00\n",
      "2020 Senate Mark: $1,778,943.00\n",
      "2020 Appropriation: $1,768,943.00\n",
      "Change from 2019 (Amount): $90,000.00\n",
      "Change from 2019 (Percent): 5.36%\n",
      "Change from President's Budget (Amount): $-43,057.00\n",
      "Change from President's Budget (Percent): (2.38%)\n",
      "--------------------------------------------------------------------------------\n",
      "Program: Office for Civil Rights (DEOA, section 203)\n",
      "Category Code: D\n",
      "2019 Appropriation: $125,000.00\n",
      "2020 President's Budget: $125,000.00\n",
      "2020 House: $130,000.00\n",
      "2020 Senate Mark: $125,000.00\n",
      "2020 Appropriation: $130,000.00\n",
      "Change from 2019 (Amount): $5,000.00\n",
      "Change from 2019 (Percent): 4.00%\n",
      "Change from President's Budget (Amount): $5,000.00\n",
      "Change from President's Budget (Percent): 4.00%\n",
      "--------------------------------------------------------------------------------\n",
      "Program: Office of Inspector General (DEOA, section 211)\n",
      "Category Code: D\n",
      "2019 Appropriation: $61,143.00\n",
      "2020 President's Budget: $63,418.00\n",
      "2020 House: $67,418.00\n",
      "2020 Senate Mark: $61,143.00\n",
      "2020 Appropriation: $63,000.00\n",
      "Change from 2019 (Amount): $1,857.00\n",
      "Change from 2019 (Percent): 3.04%\n",
      "Change from President's Budget (Amount): $-418.00\n",
      "Change from President's Budget (Percent): (0.66%)\n",
      "--------------------------------------------------------------------------------\n",
      "Program: Contributions (DEOA, section 421)\n",
      "Category Code: M\n",
      "2019 Appropriation: $14.00\n",
      "2020 President's Budget: $0.00\n",
      "2020 House: $0.00\n",
      "2020 Senate Mark: $0.00\n",
      "2020 Appropriation: $0.00\n",
      "Change from 2019 (Amount): $-14.00\n",
      "Change from 2019 (Percent): (100.00%)\n",
      "Change from President's Budget (Amount): $0.00\n",
      "Change from President's Budget (Percent): ---\n",
      "--------------------------------------------------------------------------------\n",
      "Program: General Fund Receipts\n",
      "Category Code: \n",
      "2019 Appropriation: $-12,436,376.00\n",
      "2020 President's Budget: $-9,784,683.00\n",
      "2020 House: $-9,784,683.00\n",
      "2020 Senate Mark: $-9,784,683.00\n",
      "2020 Appropriation: $-13,905,940.00\n",
      "Change from 2019 (Amount): $-1,469,564.00\n",
      "Change from 2019 (Percent): 11.82%\n",
      "Change from President's Budget (Amount): $-4,121,257.00\n",
      "Change from President's Budget (Percent): 42.12%\n",
      "--------------------------------------------------------------------------------\n",
      "Program: Special Fund Receipts\n",
      "Category Code: M\n",
      "2019 Appropriation: $13,850.00\n",
      "2020 President's Budget: $9,369.00\n",
      "2020 House: $9,369.00\n",
      "2020 Senate Mark: $9,369.00\n",
      "2020 Appropriation: $14,850.00\n",
      "Change from 2019 (Amount): $1,000.00\n",
      "Change from 2019 (Percent): 7.22%\n",
      "Change from President's Budget (Amount): $5,481.00\n",
      "Change from President's Budget (Percent): 58.50%\n",
      "--------------------------------------------------------------------------------\n",
      "Program: DISCRETIONARY APPROPRIATION\n",
      "Category Code: D\n",
      "2019 Appropriation: $71,098,416.00\n",
      "2020 President's Budget: $64,023,498.00\n",
      "2020 House: $75,652,812.00\n",
      "2020 Senate Mark: $71,315,416.00\n",
      "2020 Appropriation: $72,701,214.00\n",
      "Change from 2019 (Amount): $1,602,798.00\n",
      "Change from 2019 (Percent): 2.25%\n",
      "Change from President's Budget (Amount): $8,677,716.00\n",
      "Change from President's Budget (Percent): 13.55%\n",
      "--------------------------------------------------------------------------------\n"
     ]
    }
   ],
   "source": [
    "class ProgramRow(BaseModel):\n",
    "    cat_code: str\n",
    "    appropriation_2019: float\n",
    "    president_budget_2020: float\n",
    "    house_2020: float\n",
    "    senate_mark_2020: float\n",
    "    appropriation_2020: float\n",
    "    change_from_2019_amount: float\n",
    "    change_from_2019_percent: str\n",
    "    change_from_president_amount: float\n",
    "    change_from_president_percent: str\n",
    "\n",
    "    @classmethod\n",
    "    def from_pd_series(cls, series: pd.Series) -> 'ProgramRow':\n",
    "        \"\"\"Convert pandas Series to ProgramRow, handling data cleaning\"\"\"\n",
    "        \n",
    "        def get_val(key, as_float=False):\n",
    "            \"\"\"Get value from series with optional float conversion\"\"\"\n",
    "            try:\n",
    "                val = series.get(key, 0.0 if as_float else '')\n",
    "                if isinstance(val, pd.Series):\n",
    "                    val = val.iloc[0] if not val.empty else (0.0 if as_float else '')\n",
    "                if as_float:\n",
    "                    if pd.isna(val): return 0.0\n",
    "                    return float(str(val).replace(',', '').replace('(', '-').replace(')', '').strip() or '0')\n",
    "                return '' if pd.isna(val) else str(val)\n",
    "            except: \n",
    "                return 0.0 if as_float else ''\n",
    "        \n",
    "        return cls(\n",
    "            cat_code=get_val('Unnamed: 1_level_0'),\n",
    "            appropriation_2019=get_val('Unnamed: 2_level_0', True),\n",
    "            president_budget_2020=get_val('Unnamed: 3_level_0', True),\n",
    "            house_2020=get_val('Unnamed: 4_level_0', True),\n",
    "            senate_mark_2020=get_val('Unnamed: 5_level_0', True),\n",
    "            appropriation_2020=get_val('Unnamed: 6_level_0', True),\n",
    "            change_from_2019_amount=get_val('Unnamed: 7_level_0', True),\n",
    "            change_from_2019_percent=get_val('Unnamed: 8_level_0'),\n",
    "            change_from_president_amount=get_val('Unnamed: 9_level_0', True),\n",
    "            change_from_president_percent=get_val('Unnamed: 10_level_0')\n",
    "        )\n",
    "\n",
    "class ProgramTotal(BaseModel):\n",
    "    program: str\n",
    "    row: ProgramRow\n",
    " \n",
    "program_data: list[ProgramTotal] = []\n",
    "\n",
    "for table in tables:\n",
    "    df = table.df\n",
    "    for index, row in df.iterrows():\n",
    "        if row[0] == \"Total\" or row[0] == \"Total, Appropriation\":\n",
    "            program_name = row.index[0][0]\n",
    "            program_row = ProgramRow.from_pd_series(row)\n",
    "            program_data.append(ProgramTotal(program=program_name, row=program_row))"
   ]
  },
  {
   "cell_type": "code",
   "execution_count": 115,
   "id": "8d1f7c0e",
   "metadata": {},
   "outputs": [
    {
     "data": {
      "application/vnd.plotly.v1+json": {
       "config": {
        "plotlyServerURL": "https://plot.ly"
       },
       "data": [
        {
         "hovertemplate": "<b>%{x}</b><br>Change: $%{y:.1f}B<extra></extra>",
         "marker": {
          "color": [
           "#2E8B57",
           "#2E8B57",
           "#DC143C",
           "#2E8B57",
           "#2E8B57"
          ]
         },
         "showlegend": false,
         "text": [
          "$43.1B",
          "$1.6B",
          "$1.5B",
          "$0.5B",
          "$0.5B"
         ],
         "textfont": {
          "color": "white",
          "size": 12
         },
         "textposition": "outside",
         "type": "bar",
         "x": [
          "Federal Student Loans",
          "Total Discretionary",
          "General Fund Receipts",
          "Student Financial Aid",
          "Disadvantaged Education"
         ],
         "xaxis": "x",
         "y": [
          43.144486,
          1.602798,
          -1.469564,
          0.46002,
          0.453
         ],
         "yaxis": "y"
        },
        {
         "hovertemplate": "<b>%{x}</b><br>Deviation: $%{y:.1f}B<br>Percent: %{text}<extra></extra>",
         "marker": {
          "color": [
           "#1E90FF",
           "#1E90FF",
           "#1E90FF",
           "#FF6347",
           "#1E90FF"
          ]
         },
         "showlegend": false,
         "text": [
          "644%",
          "14%",
          "700%",
          "42%",
          "5%"
         ],
         "textfont": {
          "color": "white",
          "size": 12
         },
         "textposition": "outside",
         "type": "bar",
         "x": [
          "Federal Student Loans",
          "DISCRETIONARY APPROP",
          "School Improvement",
          "General Fund Receipt",
          "Student Financial Aid"
         ],
         "xaxis": "x2",
         "y": [
          66.612846,
          8.677716,
          4.729353,
          -4.121257,
          1.396463
         ],
         "yaxis": "y2"
        },
        {
         "hovertemplate": "<b>%{x}</b><br>2019: $%{y:.1f}B<extra></extra>",
         "marker": {
          "color": "#B0C4DE"
         },
         "name": "2019",
         "offsetgroup": "1",
         "type": "bar",
         "x": [
          "Student Loans",
          "Total Discretionary",
          "Student Aid",
          "Disadvantaged Ed",
          "Special Education",
          "School Improvem"
         ],
         "xaxis": "x3",
         "y": [
          33.812461,
          71.098416,
          31.203795,
          16.54379,
          13.468728,
          5.246967
         ],
         "yaxis": "y3"
        },
        {
         "hovertemplate": "<b>%{x}</b><br>2020: $%{y:.1f}B<extra></extra>",
         "marker": {
          "color": "#4682B4"
         },
         "name": "2020",
         "offsetgroup": "2",
         "type": "bar",
         "x": [
          "Student Loans",
          "Total Discretionary",
          "Student Aid",
          "Disadvantaged Ed",
          "Special Education",
          "School Improvem"
         ],
         "xaxis": "x3",
         "y": [
          76.956947,
          72.701214,
          31.663815,
          16.99679,
          13.885228,
          5.404967
         ],
         "yaxis": "y3"
        },
        {
         "hovertemplate": "<b>%{x}</b><br>Programs: %{y}<extra></extra>",
         "marker": {
          "color": [
           "#32CD32",
           "#FFD700",
           "#FF4500"
          ]
         },
         "showlegend": false,
         "text": [
          "10",
          "9",
          "14"
         ],
         "textfont": {
          "color": "white",
          "family": "Arial Black",
          "size": 14
         },
         "textposition": "inside",
         "type": "bar",
         "x": [
          "Close Match<br>(±5%)",
          "Some Deviation<br>(5-15%)",
          "Major Deviation<br>(>15%)"
         ],
         "xaxis": "x4",
         "y": [
          10,
          9,
          14
         ],
         "yaxis": "y4"
        }
       ],
       "layout": {
        "annotations": [
         {
          "font": {
           "size": 16
          },
          "showarrow": false,
          "text": "📊 Biggest Budget Changes (2019 → 2020)",
          "x": 0.22,
          "xanchor": "center",
          "xref": "paper",
          "y": 1,
          "yanchor": "bottom",
          "yref": "paper"
         },
         {
          "font": {
           "size": 16
          },
          "showarrow": false,
          "text": "🎯 Presidential Influence: Top Deviations",
          "x": 0.78,
          "xanchor": "center",
          "xref": "paper",
          "y": 1,
          "yanchor": "bottom",
          "yref": "paper"
         },
         {
          "font": {
           "size": 16
          },
          "showarrow": false,
          "text": "💰 Largest Programs: Before & After",
          "x": 0.22,
          "xanchor": "center",
          "xref": "paper",
          "y": 0.425,
          "yanchor": "bottom",
          "yref": "paper"
         },
         {
          "font": {
           "size": 16
          },
          "showarrow": false,
          "text": "🏛️ Presidential Success Rate",
          "x": 0.78,
          "xanchor": "center",
          "xref": "paper",
          "y": 0.425,
          "yanchor": "bottom",
          "yref": "paper"
         }
        ],
        "font": {
         "color": "#2C3E50",
         "family": "Arial",
         "size": 12
        },
        "height": 800,
        "legend": {
         "font": {
          "size": 12
         },
         "orientation": "h",
         "x": 0.5,
         "xanchor": "center",
         "y": -0.15,
         "yanchor": "bottom"
        },
        "paper_bgcolor": "#F8F9FA",
        "plot_bgcolor": "white",
        "showlegend": true,
        "template": {
         "data": {
          "bar": [
           {
            "error_x": {
             "color": "#2a3f5f"
            },
            "error_y": {
             "color": "#2a3f5f"
            },
            "marker": {
             "line": {
              "color": "#E5ECF6",
              "width": 0.5
             },
             "pattern": {
              "fillmode": "overlay",
              "size": 10,
              "solidity": 0.2
             }
            },
            "type": "bar"
           }
          ],
          "barpolar": [
           {
            "marker": {
             "line": {
              "color": "#E5ECF6",
              "width": 0.5
             },
             "pattern": {
              "fillmode": "overlay",
              "size": 10,
              "solidity": 0.2
             }
            },
            "type": "barpolar"
           }
          ],
          "carpet": [
           {
            "aaxis": {
             "endlinecolor": "#2a3f5f",
             "gridcolor": "white",
             "linecolor": "white",
             "minorgridcolor": "white",
             "startlinecolor": "#2a3f5f"
            },
            "baxis": {
             "endlinecolor": "#2a3f5f",
             "gridcolor": "white",
             "linecolor": "white",
             "minorgridcolor": "white",
             "startlinecolor": "#2a3f5f"
            },
            "type": "carpet"
           }
          ],
          "choropleth": [
           {
            "colorbar": {
             "outlinewidth": 0,
             "ticks": ""
            },
            "type": "choropleth"
           }
          ],
          "contour": [
           {
            "colorbar": {
             "outlinewidth": 0,
             "ticks": ""
            },
            "colorscale": [
             [
              0,
              "#0d0887"
             ],
             [
              0.1111111111111111,
              "#46039f"
             ],
             [
              0.2222222222222222,
              "#7201a8"
             ],
             [
              0.3333333333333333,
              "#9c179e"
             ],
             [
              0.4444444444444444,
              "#bd3786"
             ],
             [
              0.5555555555555556,
              "#d8576b"
             ],
             [
              0.6666666666666666,
              "#ed7953"
             ],
             [
              0.7777777777777778,
              "#fb9f3a"
             ],
             [
              0.8888888888888888,
              "#fdca26"
             ],
             [
              1,
              "#f0f921"
             ]
            ],
            "type": "contour"
           }
          ],
          "contourcarpet": [
           {
            "colorbar": {
             "outlinewidth": 0,
             "ticks": ""
            },
            "type": "contourcarpet"
           }
          ],
          "heatmap": [
           {
            "colorbar": {
             "outlinewidth": 0,
             "ticks": ""
            },
            "colorscale": [
             [
              0,
              "#0d0887"
             ],
             [
              0.1111111111111111,
              "#46039f"
             ],
             [
              0.2222222222222222,
              "#7201a8"
             ],
             [
              0.3333333333333333,
              "#9c179e"
             ],
             [
              0.4444444444444444,
              "#bd3786"
             ],
             [
              0.5555555555555556,
              "#d8576b"
             ],
             [
              0.6666666666666666,
              "#ed7953"
             ],
             [
              0.7777777777777778,
              "#fb9f3a"
             ],
             [
              0.8888888888888888,
              "#fdca26"
             ],
             [
              1,
              "#f0f921"
             ]
            ],
            "type": "heatmap"
           }
          ],
          "histogram": [
           {
            "marker": {
             "pattern": {
              "fillmode": "overlay",
              "size": 10,
              "solidity": 0.2
             }
            },
            "type": "histogram"
           }
          ],
          "histogram2d": [
           {
            "colorbar": {
             "outlinewidth": 0,
             "ticks": ""
            },
            "colorscale": [
             [
              0,
              "#0d0887"
             ],
             [
              0.1111111111111111,
              "#46039f"
             ],
             [
              0.2222222222222222,
              "#7201a8"
             ],
             [
              0.3333333333333333,
              "#9c179e"
             ],
             [
              0.4444444444444444,
              "#bd3786"
             ],
             [
              0.5555555555555556,
              "#d8576b"
             ],
             [
              0.6666666666666666,
              "#ed7953"
             ],
             [
              0.7777777777777778,
              "#fb9f3a"
             ],
             [
              0.8888888888888888,
              "#fdca26"
             ],
             [
              1,
              "#f0f921"
             ]
            ],
            "type": "histogram2d"
           }
          ],
          "histogram2dcontour": [
           {
            "colorbar": {
             "outlinewidth": 0,
             "ticks": ""
            },
            "colorscale": [
             [
              0,
              "#0d0887"
             ],
             [
              0.1111111111111111,
              "#46039f"
             ],
             [
              0.2222222222222222,
              "#7201a8"
             ],
             [
              0.3333333333333333,
              "#9c179e"
             ],
             [
              0.4444444444444444,
              "#bd3786"
             ],
             [
              0.5555555555555556,
              "#d8576b"
             ],
             [
              0.6666666666666666,
              "#ed7953"
             ],
             [
              0.7777777777777778,
              "#fb9f3a"
             ],
             [
              0.8888888888888888,
              "#fdca26"
             ],
             [
              1,
              "#f0f921"
             ]
            ],
            "type": "histogram2dcontour"
           }
          ],
          "mesh3d": [
           {
            "colorbar": {
             "outlinewidth": 0,
             "ticks": ""
            },
            "type": "mesh3d"
           }
          ],
          "parcoords": [
           {
            "line": {
             "colorbar": {
              "outlinewidth": 0,
              "ticks": ""
             }
            },
            "type": "parcoords"
           }
          ],
          "pie": [
           {
            "automargin": true,
            "type": "pie"
           }
          ],
          "scatter": [
           {
            "fillpattern": {
             "fillmode": "overlay",
             "size": 10,
             "solidity": 0.2
            },
            "type": "scatter"
           }
          ],
          "scatter3d": [
           {
            "line": {
             "colorbar": {
              "outlinewidth": 0,
              "ticks": ""
             }
            },
            "marker": {
             "colorbar": {
              "outlinewidth": 0,
              "ticks": ""
             }
            },
            "type": "scatter3d"
           }
          ],
          "scattercarpet": [
           {
            "marker": {
             "colorbar": {
              "outlinewidth": 0,
              "ticks": ""
             }
            },
            "type": "scattercarpet"
           }
          ],
          "scattergeo": [
           {
            "marker": {
             "colorbar": {
              "outlinewidth": 0,
              "ticks": ""
             }
            },
            "type": "scattergeo"
           }
          ],
          "scattergl": [
           {
            "marker": {
             "colorbar": {
              "outlinewidth": 0,
              "ticks": ""
             }
            },
            "type": "scattergl"
           }
          ],
          "scattermap": [
           {
            "marker": {
             "colorbar": {
              "outlinewidth": 0,
              "ticks": ""
             }
            },
            "type": "scattermap"
           }
          ],
          "scattermapbox": [
           {
            "marker": {
             "colorbar": {
              "outlinewidth": 0,
              "ticks": ""
             }
            },
            "type": "scattermapbox"
           }
          ],
          "scatterpolar": [
           {
            "marker": {
             "colorbar": {
              "outlinewidth": 0,
              "ticks": ""
             }
            },
            "type": "scatterpolar"
           }
          ],
          "scatterpolargl": [
           {
            "marker": {
             "colorbar": {
              "outlinewidth": 0,
              "ticks": ""
             }
            },
            "type": "scatterpolargl"
           }
          ],
          "scatterternary": [
           {
            "marker": {
             "colorbar": {
              "outlinewidth": 0,
              "ticks": ""
             }
            },
            "type": "scatterternary"
           }
          ],
          "surface": [
           {
            "colorbar": {
             "outlinewidth": 0,
             "ticks": ""
            },
            "colorscale": [
             [
              0,
              "#0d0887"
             ],
             [
              0.1111111111111111,
              "#46039f"
             ],
             [
              0.2222222222222222,
              "#7201a8"
             ],
             [
              0.3333333333333333,
              "#9c179e"
             ],
             [
              0.4444444444444444,
              "#bd3786"
             ],
             [
              0.5555555555555556,
              "#d8576b"
             ],
             [
              0.6666666666666666,
              "#ed7953"
             ],
             [
              0.7777777777777778,
              "#fb9f3a"
             ],
             [
              0.8888888888888888,
              "#fdca26"
             ],
             [
              1,
              "#f0f921"
             ]
            ],
            "type": "surface"
           }
          ],
          "table": [
           {
            "cells": {
             "fill": {
              "color": "#EBF0F8"
             },
             "line": {
              "color": "white"
             }
            },
            "header": {
             "fill": {
              "color": "#C8D4E3"
             },
             "line": {
              "color": "white"
             }
            },
            "type": "table"
           }
          ]
         },
         "layout": {
          "annotationdefaults": {
           "arrowcolor": "#2a3f5f",
           "arrowhead": 0,
           "arrowwidth": 1
          },
          "autotypenumbers": "strict",
          "coloraxis": {
           "colorbar": {
            "outlinewidth": 0,
            "ticks": ""
           }
          },
          "colorscale": {
           "diverging": [
            [
             0,
             "#8e0152"
            ],
            [
             0.1,
             "#c51b7d"
            ],
            [
             0.2,
             "#de77ae"
            ],
            [
             0.3,
             "#f1b6da"
            ],
            [
             0.4,
             "#fde0ef"
            ],
            [
             0.5,
             "#f7f7f7"
            ],
            [
             0.6,
             "#e6f5d0"
            ],
            [
             0.7,
             "#b8e186"
            ],
            [
             0.8,
             "#7fbc41"
            ],
            [
             0.9,
             "#4d9221"
            ],
            [
             1,
             "#276419"
            ]
           ],
           "sequential": [
            [
             0,
             "#0d0887"
            ],
            [
             0.1111111111111111,
             "#46039f"
            ],
            [
             0.2222222222222222,
             "#7201a8"
            ],
            [
             0.3333333333333333,
             "#9c179e"
            ],
            [
             0.4444444444444444,
             "#bd3786"
            ],
            [
             0.5555555555555556,
             "#d8576b"
            ],
            [
             0.6666666666666666,
             "#ed7953"
            ],
            [
             0.7777777777777778,
             "#fb9f3a"
            ],
            [
             0.8888888888888888,
             "#fdca26"
            ],
            [
             1,
             "#f0f921"
            ]
           ],
           "sequentialminus": [
            [
             0,
             "#0d0887"
            ],
            [
             0.1111111111111111,
             "#46039f"
            ],
            [
             0.2222222222222222,
             "#7201a8"
            ],
            [
             0.3333333333333333,
             "#9c179e"
            ],
            [
             0.4444444444444444,
             "#bd3786"
            ],
            [
             0.5555555555555556,
             "#d8576b"
            ],
            [
             0.6666666666666666,
             "#ed7953"
            ],
            [
             0.7777777777777778,
             "#fb9f3a"
            ],
            [
             0.8888888888888888,
             "#fdca26"
            ],
            [
             1,
             "#f0f921"
            ]
           ]
          },
          "colorway": [
           "#636efa",
           "#EF553B",
           "#00cc96",
           "#ab63fa",
           "#FFA15A",
           "#19d3f3",
           "#FF6692",
           "#B6E880",
           "#FF97FF",
           "#FECB52"
          ],
          "font": {
           "color": "#2a3f5f"
          },
          "geo": {
           "bgcolor": "white",
           "lakecolor": "white",
           "landcolor": "#E5ECF6",
           "showlakes": true,
           "showland": true,
           "subunitcolor": "white"
          },
          "hoverlabel": {
           "align": "left"
          },
          "hovermode": "closest",
          "mapbox": {
           "style": "light"
          },
          "paper_bgcolor": "white",
          "plot_bgcolor": "#E5ECF6",
          "polar": {
           "angularaxis": {
            "gridcolor": "white",
            "linecolor": "white",
            "ticks": ""
           },
           "bgcolor": "#E5ECF6",
           "radialaxis": {
            "gridcolor": "white",
            "linecolor": "white",
            "ticks": ""
           }
          },
          "scene": {
           "xaxis": {
            "backgroundcolor": "#E5ECF6",
            "gridcolor": "white",
            "gridwidth": 2,
            "linecolor": "white",
            "showbackground": true,
            "ticks": "",
            "zerolinecolor": "white"
           },
           "yaxis": {
            "backgroundcolor": "#E5ECF6",
            "gridcolor": "white",
            "gridwidth": 2,
            "linecolor": "white",
            "showbackground": true,
            "ticks": "",
            "zerolinecolor": "white"
           },
           "zaxis": {
            "backgroundcolor": "#E5ECF6",
            "gridcolor": "white",
            "gridwidth": 2,
            "linecolor": "white",
            "showbackground": true,
            "ticks": "",
            "zerolinecolor": "white"
           }
          },
          "shapedefaults": {
           "line": {
            "color": "#2a3f5f"
           }
          },
          "ternary": {
           "aaxis": {
            "gridcolor": "white",
            "linecolor": "white",
            "ticks": ""
           },
           "baxis": {
            "gridcolor": "white",
            "linecolor": "white",
            "ticks": ""
           },
           "bgcolor": "#E5ECF6",
           "caxis": {
            "gridcolor": "white",
            "linecolor": "white",
            "ticks": ""
           }
          },
          "title": {
           "x": 0.05
          },
          "xaxis": {
           "automargin": true,
           "gridcolor": "white",
           "linecolor": "white",
           "ticks": "",
           "title": {
            "standoff": 15
           },
           "zerolinecolor": "white",
           "zerolinewidth": 2
          },
          "yaxis": {
           "automargin": true,
           "gridcolor": "white",
           "linecolor": "white",
           "ticks": "",
           "title": {
            "standoff": 15
           },
           "zerolinecolor": "white",
           "zerolinewidth": 2
          }
         }
        },
        "title": {
         "font": {
          "color": "#2C3E50",
          "size": 24
         },
         "text": "<b>🎓 Education Budget Analysis 2020</b><br><sup>Presidential Proposals vs Congressional Appropriations</sup>",
         "x": 0.5
        },
        "xaxis": {
         "anchor": "y",
         "domain": [
          0,
          0.44
         ],
         "showgrid": false,
         "tickangle": 45,
         "tickfont": {
          "size": 10
         },
         "title": {
          "font": {
           "size": 12
          }
         }
        },
        "xaxis2": {
         "anchor": "y2",
         "domain": [
          0.56,
          1
         ],
         "showgrid": false,
         "tickangle": 45,
         "tickfont": {
          "size": 10
         },
         "title": {
          "font": {
           "size": 12
          }
         }
        },
        "xaxis3": {
         "anchor": "y3",
         "domain": [
          0,
          0.44
         ],
         "showgrid": false,
         "tickangle": 45,
         "tickfont": {
          "size": 10
         },
         "title": {
          "font": {
           "size": 12
          }
         }
        },
        "xaxis4": {
         "anchor": "y4",
         "domain": [
          0.56,
          1
         ],
         "showgrid": false,
         "tickangle": 45,
         "tickfont": {
          "size": 10
         },
         "title": {
          "font": {
           "size": 12
          }
         }
        },
        "yaxis": {
         "anchor": "x",
         "domain": [
          0.575,
          1
         ],
         "gridcolor": "#E5E5E5",
         "gridwidth": 1,
         "showgrid": true,
         "tickfont": {
          "size": 10
         },
         "title": {
          "font": {
           "size": 12
          },
          "text": "Change (Billions $)"
         }
        },
        "yaxis2": {
         "anchor": "x2",
         "domain": [
          0.575,
          1
         ],
         "gridcolor": "#E5E5E5",
         "gridwidth": 1,
         "showgrid": true,
         "tickfont": {
          "size": 10
         },
         "title": {
          "font": {
           "size": 12
          },
          "text": "Deviation (Billions $)"
         }
        },
        "yaxis3": {
         "anchor": "x3",
         "domain": [
          0,
          0.425
         ],
         "gridcolor": "#E5E5E5",
         "gridwidth": 1,
         "showgrid": true,
         "tickfont": {
          "size": 10
         },
         "title": {
          "font": {
           "size": 12
          },
          "text": "Appropriation (Billions $)"
         }
        },
        "yaxis4": {
         "anchor": "x4",
         "domain": [
          0,
          0.425
         ],
         "gridcolor": "#E5E5E5",
         "gridwidth": 1,
         "showgrid": true,
         "tickfont": {
          "size": 10
         },
         "title": {
          "font": {
           "size": 12
          },
          "text": "Number of Programs"
         }
        }
       }
      },
      "text/html": [
       "<div>            <script src=\"https://cdnjs.cloudflare.com/ajax/libs/mathjax/2.7.5/MathJax.js?config=TeX-AMS-MML_SVG\"></script><script type=\"text/javascript\">if (window.MathJax && window.MathJax.Hub && window.MathJax.Hub.Config) {window.MathJax.Hub.Config({SVG: {font: \"STIX-Web\"}});}</script>                <script type=\"text/javascript\">window.PlotlyConfig = {MathJaxConfig: 'local'};</script>\n",
       "        <script charset=\"utf-8\" src=\"https://cdn.plot.ly/plotly-3.0.1.min.js\" integrity=\"sha256-oy6Be7Eh6eiQFs5M7oXuPxxm9qbJXEtTpfSI93dW16Q=\" crossorigin=\"anonymous\"></script>                <div id=\"f047c39d-4f3b-4beb-b360-6452ef7e3838\" class=\"plotly-graph-div\" style=\"height:800px; width:100%;\"></div>            <script type=\"text/javascript\">                window.PLOTLYENV=window.PLOTLYENV || {};                                if (document.getElementById(\"f047c39d-4f3b-4beb-b360-6452ef7e3838\")) {                    Plotly.newPlot(                        \"f047c39d-4f3b-4beb-b360-6452ef7e3838\",                        [{\"hovertemplate\":\"\\u003cb\\u003e%{x}\\u003c\\u002fb\\u003e\\u003cbr\\u003eChange: $%{y:.1f}B\\u003cextra\\u003e\\u003c\\u002fextra\\u003e\",\"marker\":{\"color\":[\"#2E8B57\",\"#2E8B57\",\"#DC143C\",\"#2E8B57\",\"#2E8B57\"]},\"showlegend\":false,\"text\":[\"$43.1B\",\"$1.6B\",\"$1.5B\",\"$0.5B\",\"$0.5B\"],\"textfont\":{\"color\":\"white\",\"size\":12},\"textposition\":\"outside\",\"x\":[\"Federal Student Loans\",\"Total Discretionary\",\"General Fund Receipts\",\"Student Financial Aid\",\"Disadvantaged Education\"],\"y\":[43.144486,1.602798,-1.469564,0.46002,0.453],\"type\":\"bar\",\"xaxis\":\"x\",\"yaxis\":\"y\"},{\"hovertemplate\":\"\\u003cb\\u003e%{x}\\u003c\\u002fb\\u003e\\u003cbr\\u003eDeviation: $%{y:.1f}B\\u003cbr\\u003ePercent: %{text}\\u003cextra\\u003e\\u003c\\u002fextra\\u003e\",\"marker\":{\"color\":[\"#1E90FF\",\"#1E90FF\",\"#1E90FF\",\"#FF6347\",\"#1E90FF\"]},\"showlegend\":false,\"text\":[\"644%\",\"14%\",\"700%\",\"42%\",\"5%\"],\"textfont\":{\"color\":\"white\",\"size\":12},\"textposition\":\"outside\",\"x\":[\"Federal Student Loans\",\"DISCRETIONARY APPROP\",\"School Improvement\",\"General Fund Receipt\",\"Student Financial Aid\"],\"y\":[66.612846,8.677716,4.729353,-4.121257,1.396463],\"type\":\"bar\",\"xaxis\":\"x2\",\"yaxis\":\"y2\"},{\"hovertemplate\":\"\\u003cb\\u003e%{x}\\u003c\\u002fb\\u003e\\u003cbr\\u003e2019: $%{y:.1f}B\\u003cextra\\u003e\\u003c\\u002fextra\\u003e\",\"marker\":{\"color\":\"#B0C4DE\"},\"name\":\"2019\",\"offsetgroup\":\"1\",\"x\":[\"Student Loans\",\"Total Discretionary\",\"Student Aid\",\"Disadvantaged Ed\",\"Special Education\",\"School Improvem\"],\"y\":[33.812461,71.098416,31.203795,16.54379,13.468728,5.246967],\"type\":\"bar\",\"xaxis\":\"x3\",\"yaxis\":\"y3\"},{\"hovertemplate\":\"\\u003cb\\u003e%{x}\\u003c\\u002fb\\u003e\\u003cbr\\u003e2020: $%{y:.1f}B\\u003cextra\\u003e\\u003c\\u002fextra\\u003e\",\"marker\":{\"color\":\"#4682B4\"},\"name\":\"2020\",\"offsetgroup\":\"2\",\"x\":[\"Student Loans\",\"Total Discretionary\",\"Student Aid\",\"Disadvantaged Ed\",\"Special Education\",\"School Improvem\"],\"y\":[76.956947,72.701214,31.663815,16.99679,13.885228,5.404967],\"type\":\"bar\",\"xaxis\":\"x3\",\"yaxis\":\"y3\"},{\"hovertemplate\":\"\\u003cb\\u003e%{x}\\u003c\\u002fb\\u003e\\u003cbr\\u003ePrograms: %{y}\\u003cextra\\u003e\\u003c\\u002fextra\\u003e\",\"marker\":{\"color\":[\"#32CD32\",\"#FFD700\",\"#FF4500\"]},\"showlegend\":false,\"text\":[\"10\",\"9\",\"14\"],\"textfont\":{\"color\":\"white\",\"family\":\"Arial Black\",\"size\":14},\"textposition\":\"inside\",\"x\":[\"Close Match\\u003cbr\\u003e(\\u00b15%)\",\"Some Deviation\\u003cbr\\u003e(5-15%)\",\"Major Deviation\\u003cbr\\u003e(\\u003e15%)\"],\"y\":[10,9,14],\"type\":\"bar\",\"xaxis\":\"x4\",\"yaxis\":\"y4\"}],                        {\"template\":{\"data\":{\"histogram2dcontour\":[{\"type\":\"histogram2dcontour\",\"colorbar\":{\"outlinewidth\":0,\"ticks\":\"\"},\"colorscale\":[[0.0,\"#0d0887\"],[0.1111111111111111,\"#46039f\"],[0.2222222222222222,\"#7201a8\"],[0.3333333333333333,\"#9c179e\"],[0.4444444444444444,\"#bd3786\"],[0.5555555555555556,\"#d8576b\"],[0.6666666666666666,\"#ed7953\"],[0.7777777777777778,\"#fb9f3a\"],[0.8888888888888888,\"#fdca26\"],[1.0,\"#f0f921\"]]}],\"choropleth\":[{\"type\":\"choropleth\",\"colorbar\":{\"outlinewidth\":0,\"ticks\":\"\"}}],\"histogram2d\":[{\"type\":\"histogram2d\",\"colorbar\":{\"outlinewidth\":0,\"ticks\":\"\"},\"colorscale\":[[0.0,\"#0d0887\"],[0.1111111111111111,\"#46039f\"],[0.2222222222222222,\"#7201a8\"],[0.3333333333333333,\"#9c179e\"],[0.4444444444444444,\"#bd3786\"],[0.5555555555555556,\"#d8576b\"],[0.6666666666666666,\"#ed7953\"],[0.7777777777777778,\"#fb9f3a\"],[0.8888888888888888,\"#fdca26\"],[1.0,\"#f0f921\"]]}],\"heatmap\":[{\"type\":\"heatmap\",\"colorbar\":{\"outlinewidth\":0,\"ticks\":\"\"},\"colorscale\":[[0.0,\"#0d0887\"],[0.1111111111111111,\"#46039f\"],[0.2222222222222222,\"#7201a8\"],[0.3333333333333333,\"#9c179e\"],[0.4444444444444444,\"#bd3786\"],[0.5555555555555556,\"#d8576b\"],[0.6666666666666666,\"#ed7953\"],[0.7777777777777778,\"#fb9f3a\"],[0.8888888888888888,\"#fdca26\"],[1.0,\"#f0f921\"]]}],\"contourcarpet\":[{\"type\":\"contourcarpet\",\"colorbar\":{\"outlinewidth\":0,\"ticks\":\"\"}}],\"contour\":[{\"type\":\"contour\",\"colorbar\":{\"outlinewidth\":0,\"ticks\":\"\"},\"colorscale\":[[0.0,\"#0d0887\"],[0.1111111111111111,\"#46039f\"],[0.2222222222222222,\"#7201a8\"],[0.3333333333333333,\"#9c179e\"],[0.4444444444444444,\"#bd3786\"],[0.5555555555555556,\"#d8576b\"],[0.6666666666666666,\"#ed7953\"],[0.7777777777777778,\"#fb9f3a\"],[0.8888888888888888,\"#fdca26\"],[1.0,\"#f0f921\"]]}],\"surface\":[{\"type\":\"surface\",\"colorbar\":{\"outlinewidth\":0,\"ticks\":\"\"},\"colorscale\":[[0.0,\"#0d0887\"],[0.1111111111111111,\"#46039f\"],[0.2222222222222222,\"#7201a8\"],[0.3333333333333333,\"#9c179e\"],[0.4444444444444444,\"#bd3786\"],[0.5555555555555556,\"#d8576b\"],[0.6666666666666666,\"#ed7953\"],[0.7777777777777778,\"#fb9f3a\"],[0.8888888888888888,\"#fdca26\"],[1.0,\"#f0f921\"]]}],\"mesh3d\":[{\"type\":\"mesh3d\",\"colorbar\":{\"outlinewidth\":0,\"ticks\":\"\"}}],\"scatter\":[{\"fillpattern\":{\"fillmode\":\"overlay\",\"size\":10,\"solidity\":0.2},\"type\":\"scatter\"}],\"parcoords\":[{\"type\":\"parcoords\",\"line\":{\"colorbar\":{\"outlinewidth\":0,\"ticks\":\"\"}}}],\"scatterpolargl\":[{\"type\":\"scatterpolargl\",\"marker\":{\"colorbar\":{\"outlinewidth\":0,\"ticks\":\"\"}}}],\"bar\":[{\"error_x\":{\"color\":\"#2a3f5f\"},\"error_y\":{\"color\":\"#2a3f5f\"},\"marker\":{\"line\":{\"color\":\"#E5ECF6\",\"width\":0.5},\"pattern\":{\"fillmode\":\"overlay\",\"size\":10,\"solidity\":0.2}},\"type\":\"bar\"}],\"scattergeo\":[{\"type\":\"scattergeo\",\"marker\":{\"colorbar\":{\"outlinewidth\":0,\"ticks\":\"\"}}}],\"scatterpolar\":[{\"type\":\"scatterpolar\",\"marker\":{\"colorbar\":{\"outlinewidth\":0,\"ticks\":\"\"}}}],\"histogram\":[{\"marker\":{\"pattern\":{\"fillmode\":\"overlay\",\"size\":10,\"solidity\":0.2}},\"type\":\"histogram\"}],\"scattergl\":[{\"type\":\"scattergl\",\"marker\":{\"colorbar\":{\"outlinewidth\":0,\"ticks\":\"\"}}}],\"scatter3d\":[{\"type\":\"scatter3d\",\"line\":{\"colorbar\":{\"outlinewidth\":0,\"ticks\":\"\"}},\"marker\":{\"colorbar\":{\"outlinewidth\":0,\"ticks\":\"\"}}}],\"scattermap\":[{\"type\":\"scattermap\",\"marker\":{\"colorbar\":{\"outlinewidth\":0,\"ticks\":\"\"}}}],\"scattermapbox\":[{\"type\":\"scattermapbox\",\"marker\":{\"colorbar\":{\"outlinewidth\":0,\"ticks\":\"\"}}}],\"scatterternary\":[{\"type\":\"scatterternary\",\"marker\":{\"colorbar\":{\"outlinewidth\":0,\"ticks\":\"\"}}}],\"scattercarpet\":[{\"type\":\"scattercarpet\",\"marker\":{\"colorbar\":{\"outlinewidth\":0,\"ticks\":\"\"}}}],\"carpet\":[{\"aaxis\":{\"endlinecolor\":\"#2a3f5f\",\"gridcolor\":\"white\",\"linecolor\":\"white\",\"minorgridcolor\":\"white\",\"startlinecolor\":\"#2a3f5f\"},\"baxis\":{\"endlinecolor\":\"#2a3f5f\",\"gridcolor\":\"white\",\"linecolor\":\"white\",\"minorgridcolor\":\"white\",\"startlinecolor\":\"#2a3f5f\"},\"type\":\"carpet\"}],\"table\":[{\"cells\":{\"fill\":{\"color\":\"#EBF0F8\"},\"line\":{\"color\":\"white\"}},\"header\":{\"fill\":{\"color\":\"#C8D4E3\"},\"line\":{\"color\":\"white\"}},\"type\":\"table\"}],\"barpolar\":[{\"marker\":{\"line\":{\"color\":\"#E5ECF6\",\"width\":0.5},\"pattern\":{\"fillmode\":\"overlay\",\"size\":10,\"solidity\":0.2}},\"type\":\"barpolar\"}],\"pie\":[{\"automargin\":true,\"type\":\"pie\"}]},\"layout\":{\"autotypenumbers\":\"strict\",\"colorway\":[\"#636efa\",\"#EF553B\",\"#00cc96\",\"#ab63fa\",\"#FFA15A\",\"#19d3f3\",\"#FF6692\",\"#B6E880\",\"#FF97FF\",\"#FECB52\"],\"font\":{\"color\":\"#2a3f5f\"},\"hovermode\":\"closest\",\"hoverlabel\":{\"align\":\"left\"},\"paper_bgcolor\":\"white\",\"plot_bgcolor\":\"#E5ECF6\",\"polar\":{\"bgcolor\":\"#E5ECF6\",\"angularaxis\":{\"gridcolor\":\"white\",\"linecolor\":\"white\",\"ticks\":\"\"},\"radialaxis\":{\"gridcolor\":\"white\",\"linecolor\":\"white\",\"ticks\":\"\"}},\"ternary\":{\"bgcolor\":\"#E5ECF6\",\"aaxis\":{\"gridcolor\":\"white\",\"linecolor\":\"white\",\"ticks\":\"\"},\"baxis\":{\"gridcolor\":\"white\",\"linecolor\":\"white\",\"ticks\":\"\"},\"caxis\":{\"gridcolor\":\"white\",\"linecolor\":\"white\",\"ticks\":\"\"}},\"coloraxis\":{\"colorbar\":{\"outlinewidth\":0,\"ticks\":\"\"}},\"colorscale\":{\"sequential\":[[0.0,\"#0d0887\"],[0.1111111111111111,\"#46039f\"],[0.2222222222222222,\"#7201a8\"],[0.3333333333333333,\"#9c179e\"],[0.4444444444444444,\"#bd3786\"],[0.5555555555555556,\"#d8576b\"],[0.6666666666666666,\"#ed7953\"],[0.7777777777777778,\"#fb9f3a\"],[0.8888888888888888,\"#fdca26\"],[1.0,\"#f0f921\"]],\"sequentialminus\":[[0.0,\"#0d0887\"],[0.1111111111111111,\"#46039f\"],[0.2222222222222222,\"#7201a8\"],[0.3333333333333333,\"#9c179e\"],[0.4444444444444444,\"#bd3786\"],[0.5555555555555556,\"#d8576b\"],[0.6666666666666666,\"#ed7953\"],[0.7777777777777778,\"#fb9f3a\"],[0.8888888888888888,\"#fdca26\"],[1.0,\"#f0f921\"]],\"diverging\":[[0,\"#8e0152\"],[0.1,\"#c51b7d\"],[0.2,\"#de77ae\"],[0.3,\"#f1b6da\"],[0.4,\"#fde0ef\"],[0.5,\"#f7f7f7\"],[0.6,\"#e6f5d0\"],[0.7,\"#b8e186\"],[0.8,\"#7fbc41\"],[0.9,\"#4d9221\"],[1,\"#276419\"]]},\"xaxis\":{\"gridcolor\":\"white\",\"linecolor\":\"white\",\"ticks\":\"\",\"title\":{\"standoff\":15},\"zerolinecolor\":\"white\",\"automargin\":true,\"zerolinewidth\":2},\"yaxis\":{\"gridcolor\":\"white\",\"linecolor\":\"white\",\"ticks\":\"\",\"title\":{\"standoff\":15},\"zerolinecolor\":\"white\",\"automargin\":true,\"zerolinewidth\":2},\"scene\":{\"xaxis\":{\"backgroundcolor\":\"#E5ECF6\",\"gridcolor\":\"white\",\"linecolor\":\"white\",\"showbackground\":true,\"ticks\":\"\",\"zerolinecolor\":\"white\",\"gridwidth\":2},\"yaxis\":{\"backgroundcolor\":\"#E5ECF6\",\"gridcolor\":\"white\",\"linecolor\":\"white\",\"showbackground\":true,\"ticks\":\"\",\"zerolinecolor\":\"white\",\"gridwidth\":2},\"zaxis\":{\"backgroundcolor\":\"#E5ECF6\",\"gridcolor\":\"white\",\"linecolor\":\"white\",\"showbackground\":true,\"ticks\":\"\",\"zerolinecolor\":\"white\",\"gridwidth\":2}},\"shapedefaults\":{\"line\":{\"color\":\"#2a3f5f\"}},\"annotationdefaults\":{\"arrowcolor\":\"#2a3f5f\",\"arrowhead\":0,\"arrowwidth\":1},\"geo\":{\"bgcolor\":\"white\",\"landcolor\":\"#E5ECF6\",\"subunitcolor\":\"white\",\"showland\":true,\"showlakes\":true,\"lakecolor\":\"white\"},\"title\":{\"x\":0.05},\"mapbox\":{\"style\":\"light\"}}},\"xaxis\":{\"anchor\":\"y\",\"domain\":[0.0,0.44],\"title\":{\"font\":{\"size\":12}},\"tickfont\":{\"size\":10},\"tickangle\":45,\"showgrid\":false},\"yaxis\":{\"anchor\":\"x\",\"domain\":[0.575,1.0],\"title\":{\"font\":{\"size\":12},\"text\":\"Change (Billions $)\"},\"tickfont\":{\"size\":10},\"showgrid\":true,\"gridcolor\":\"#E5E5E5\",\"gridwidth\":1},\"xaxis2\":{\"anchor\":\"y2\",\"domain\":[0.56,1.0],\"title\":{\"font\":{\"size\":12}},\"tickfont\":{\"size\":10},\"tickangle\":45,\"showgrid\":false},\"yaxis2\":{\"anchor\":\"x2\",\"domain\":[0.575,1.0],\"title\":{\"font\":{\"size\":12},\"text\":\"Deviation (Billions $)\"},\"tickfont\":{\"size\":10},\"showgrid\":true,\"gridcolor\":\"#E5E5E5\",\"gridwidth\":1},\"xaxis3\":{\"anchor\":\"y3\",\"domain\":[0.0,0.44],\"title\":{\"font\":{\"size\":12}},\"tickfont\":{\"size\":10},\"tickangle\":45,\"showgrid\":false},\"yaxis3\":{\"anchor\":\"x3\",\"domain\":[0.0,0.425],\"title\":{\"font\":{\"size\":12},\"text\":\"Appropriation (Billions $)\"},\"tickfont\":{\"size\":10},\"showgrid\":true,\"gridcolor\":\"#E5E5E5\",\"gridwidth\":1},\"xaxis4\":{\"anchor\":\"y4\",\"domain\":[0.56,1.0],\"title\":{\"font\":{\"size\":12}},\"tickfont\":{\"size\":10},\"tickangle\":45,\"showgrid\":false},\"yaxis4\":{\"anchor\":\"x4\",\"domain\":[0.0,0.425],\"title\":{\"font\":{\"size\":12},\"text\":\"Number of Programs\"},\"tickfont\":{\"size\":10},\"showgrid\":true,\"gridcolor\":\"#E5E5E5\",\"gridwidth\":1},\"annotations\":[{\"font\":{\"size\":16},\"showarrow\":false,\"text\":\"\\ud83d\\udcca Biggest Budget Changes (2019 \\u2192 2020)\",\"x\":0.22,\"xanchor\":\"center\",\"xref\":\"paper\",\"y\":1.0,\"yanchor\":\"bottom\",\"yref\":\"paper\"},{\"font\":{\"size\":16},\"showarrow\":false,\"text\":\"\\ud83c\\udfaf Presidential Influence: Top Deviations\",\"x\":0.78,\"xanchor\":\"center\",\"xref\":\"paper\",\"y\":1.0,\"yanchor\":\"bottom\",\"yref\":\"paper\"},{\"font\":{\"size\":16},\"showarrow\":false,\"text\":\"\\ud83d\\udcb0 Largest Programs: Before & After\",\"x\":0.22,\"xanchor\":\"center\",\"xref\":\"paper\",\"y\":0.425,\"yanchor\":\"bottom\",\"yref\":\"paper\"},{\"font\":{\"size\":16},\"showarrow\":false,\"text\":\"\\ud83c\\udfdb\\ufe0f Presidential Success Rate\",\"x\":0.78,\"xanchor\":\"center\",\"xref\":\"paper\",\"y\":0.425,\"yanchor\":\"bottom\",\"yref\":\"paper\"}],\"title\":{\"font\":{\"size\":24,\"color\":\"#2C3E50\"},\"text\":\"\\u003cb\\u003e\\ud83c\\udf93 Education Budget Analysis 2020\\u003c\\u002fb\\u003e\\u003cbr\\u003e\\u003csup\\u003ePresidential Proposals vs Congressional Appropriations\\u003c\\u002fsup\\u003e\",\"x\":0.5},\"font\":{\"family\":\"Arial\",\"size\":12,\"color\":\"#2C3E50\"},\"legend\":{\"font\":{\"size\":12},\"orientation\":\"h\",\"yanchor\":\"bottom\",\"y\":-0.15,\"xanchor\":\"center\",\"x\":0.5},\"height\":800,\"plot_bgcolor\":\"white\",\"paper_bgcolor\":\"#F8F9FA\",\"showlegend\":true},                        {\"responsive\": true}                    ).then(function(){\n",
       "                            \n",
       "var gd = document.getElementById('f047c39d-4f3b-4beb-b360-6452ef7e3838');\n",
       "var x = new MutationObserver(function (mutations, observer) {{\n",
       "        var display = window.getComputedStyle(gd).display;\n",
       "        if (!display || display === 'none') {{\n",
       "            console.log([gd, 'removed!']);\n",
       "            Plotly.purge(gd);\n",
       "            observer.disconnect();\n",
       "        }}\n",
       "}});\n",
       "\n",
       "// Listen for the removal of the full notebook cells\n",
       "var notebookContainer = gd.closest('#notebook-container');\n",
       "if (notebookContainer) {{\n",
       "    x.observe(notebookContainer, {childList: true});\n",
       "}}\n",
       "\n",
       "// Listen for the clearing of the current output cell\n",
       "var outputEl = gd.closest('.output');\n",
       "if (outputEl) {{\n",
       "    x.observe(outputEl, {childList: true});\n",
       "}}\n",
       "\n",
       "                        })                };            </script>        </div>"
      ]
     },
     "metadata": {},
     "output_type": "display_data"
    }
   ],
   "source": [
    "import plotly.graph_objects as go\n",
    "import plotly.express as px\n",
    "from plotly.subplots import make_subplots\n",
    "\n",
    "def create_clean_budget_dashboard(program_data):\n",
    "    \"\"\"Create a clean, focused budget analysis dashboard\"\"\"\n",
    "    \n",
    "    # Prepare data\n",
    "    programs = [p.program for p in program_data]\n",
    "    appropriation_2019 = [p.row.appropriation_2019 for p in program_data]\n",
    "    appropriation_2020 = [p.row.appropriation_2020 for p in program_data]\n",
    "    president_budget = [p.row.president_budget_2020 for p in program_data]\n",
    "    change_from_2019 = [p.row.change_from_2019_amount for p in program_data]\n",
    "    change_from_president = [p.row.change_from_president_amount for p in program_data]\n",
    "    change_from_president_pct = [float(str(p.row.change_from_president_percent).replace('%', '').replace('(', '-').replace(')', '').replace('---', '0').strip() or '0') for p in program_data]\n",
    "    \n",
    "    # Create clean 2x2 layout\n",
    "    fig = make_subplots(\n",
    "        rows=2, cols=2,\n",
    "        subplot_titles=[\n",
    "            \"📊 Biggest Budget Changes (2019 → 2020)\",\n",
    "            \"🎯 Presidential Influence: Top Deviations\", \n",
    "            \"💰 Largest Programs: Before & After\",\n",
    "            \"🏛️ Presidential Success Rate\"\n",
    "        ],\n",
    "        specs=[[{\"type\": \"bar\"}, {\"type\": \"bar\"}],\n",
    "               [{\"type\": \"bar\"}, {\"type\": \"bar\"}]],\n",
    "        vertical_spacing=0.15,\n",
    "        horizontal_spacing=0.12\n",
    "    )\n",
    "    \n",
    "    # 1. Top Budget Changes - Clean and focused\n",
    "    impact_data = list(zip(programs, change_from_2019))\n",
    "    impact_data.sort(key=lambda x: abs(x[1]), reverse=True)\n",
    "    top_5_changes = impact_data[:5]\n",
    "    \n",
    "    # Clean program names\n",
    "    clean_names = []\n",
    "    for prog, _ in top_5_changes:\n",
    "        if \"Federal Direct Student Loans\" in prog:\n",
    "            clean_names.append(\"Federal Student Loans\")\n",
    "        elif \"DISCRETIONARY\" in prog:\n",
    "            clean_names.append(\"Total Discretionary\")\n",
    "        elif \"Student Financial Assistance\" in prog:\n",
    "            clean_names.append(\"Student Financial Aid\")\n",
    "        elif \"Education for the Disadvantaged\" in prog:\n",
    "            clean_names.append(\"Disadvantaged Education\")\n",
    "        else:\n",
    "            clean_names.append(prog[:25])\n",
    "    \n",
    "    colors_1 = ['#2E8B57' if x[1] > 0 else '#DC143C' for x in top_5_changes]\n",
    "    \n",
    "    fig.add_trace(\n",
    "        go.Bar(\n",
    "            x=clean_names,\n",
    "            y=[x[1]/1000000 for x in top_5_changes],\n",
    "            marker_color=colors_1,\n",
    "            text=[f\"${abs(x[1]/1000000):.1f}B\" for x in top_5_changes],\n",
    "            textposition='outside',\n",
    "            textfont=dict(size=12, color='white'),\n",
    "            hovertemplate='<b>%{x}</b><br>Change: $%{y:.1f}B<extra></extra>',\n",
    "            showlegend=False\n",
    "        ),\n",
    "        row=1, col=1\n",
    "    )\n",
    "    \n",
    "    # 2. Presidential Influence - Where Congress deviated most\n",
    "    pres_impact = list(zip(programs, change_from_president, change_from_president_pct))\n",
    "    pres_impact.sort(key=lambda x: abs(x[1]), reverse=True)\n",
    "    top_5_deviations = pres_impact[:5]\n",
    "    \n",
    "    clean_names_2 = []\n",
    "    for prog, _, _ in top_5_deviations:\n",
    "        if \"Federal Direct Student Loans\" in prog:\n",
    "            clean_names_2.append(\"Federal Student Loans\")\n",
    "        elif \"School Improvement\" in prog:\n",
    "            clean_names_2.append(\"School Improvement\")\n",
    "        elif \"Higher Education\" in prog:\n",
    "            clean_names_2.append(\"Higher Education\")\n",
    "        elif \"Student Financial Assistance\" in prog:\n",
    "            clean_names_2.append(\"Student Financial Aid\")\n",
    "        else:\n",
    "            clean_names_2.append(prog[:20])\n",
    "    \n",
    "    colors_2 = ['#1E90FF' if x[1] > 0 else '#FF6347' for x in top_5_deviations]\n",
    "    \n",
    "    fig.add_trace(\n",
    "        go.Bar(\n",
    "            x=clean_names_2,\n",
    "            y=[x[1]/1000000 for x in top_5_deviations],\n",
    "            marker_color=colors_2,\n",
    "            text=[f\"{x[2]:.0f}%\" for x in top_5_deviations],\n",
    "            textposition='outside',\n",
    "            textfont=dict(size=12, color='white'),\n",
    "            hovertemplate='<b>%{x}</b><br>Deviation: $%{y:.1f}B<br>Percent: %{text}<extra></extra>',\n",
    "            showlegend=False\n",
    "        ),\n",
    "        row=1, col=2\n",
    "    )\n",
    "    \n",
    "    # 3. Largest Programs Comparison - Clean side by side\n",
    "    largest_programs = list(zip(programs, appropriation_2019, appropriation_2020))\n",
    "    largest_programs.sort(key=lambda x: x[2], reverse=True)\n",
    "    top_6_programs = largest_programs[:6]\n",
    "    \n",
    "    clean_names_3 = []\n",
    "    for prog, _, _ in top_6_programs:\n",
    "        if \"Federal Direct Student Loans\" in prog:\n",
    "            clean_names_3.append(\"Student Loans\")\n",
    "        elif \"DISCRETIONARY\" in prog:\n",
    "            clean_names_3.append(\"Total Discretionary\")\n",
    "        elif \"Student Financial Assistance\" in prog:\n",
    "            clean_names_3.append(\"Student Aid\")\n",
    "        elif \"Education for the Disadvantaged\" in prog:\n",
    "            clean_names_3.append(\"Disadvantaged Ed\")\n",
    "        elif \"Special Education\" in prog:\n",
    "            clean_names_3.append(\"Special Education\")\n",
    "        else:\n",
    "            clean_names_3.append(prog[:15])\n",
    "    \n",
    "    fig.add_trace(\n",
    "        go.Bar(\n",
    "            x=clean_names_3,\n",
    "            y=[x[1]/1000000 for x in top_6_programs],\n",
    "            name='2019',\n",
    "            marker_color='#B0C4DE',\n",
    "            offsetgroup=1,\n",
    "            hovertemplate='<b>%{x}</b><br>2019: $%{y:.1f}B<extra></extra>'\n",
    "        ),\n",
    "        row=2, col=1\n",
    "    )\n",
    "    \n",
    "    fig.add_trace(\n",
    "        go.Bar(\n",
    "            x=clean_names_3,\n",
    "            y=[x[2]/1000000 for x in top_6_programs],\n",
    "            name='2020',\n",
    "            marker_color='#4682B4',\n",
    "            offsetgroup=2,\n",
    "            hovertemplate='<b>%{x}</b><br>2020: $%{y:.1f}B<extra></extra>'\n",
    "        ),\n",
    "        row=2, col=1\n",
    "    )\n",
    "    \n",
    "    # 4. Presidential Success Rate - Simple and clear\n",
    "    success_high = sum(1 for pct in change_from_president_pct if abs(pct) < 5 and pct != 0)\n",
    "    success_moderate = sum(1 for pct in change_from_president_pct if 5 <= abs(pct) < 15)\n",
    "    success_low = sum(1 for pct in change_from_president_pct if abs(pct) >= 15)\n",
    "    \n",
    "    fig.add_trace(\n",
    "        go.Bar(\n",
    "            x=['Close Match<br>(±5%)', 'Some Deviation<br>(5-15%)', 'Major Deviation<br>(>15%)'],\n",
    "            y=[success_high, success_moderate, success_low],\n",
    "            marker_color=['#32CD32', '#FFD700', '#FF4500'],\n",
    "            text=[success_high, success_moderate, success_low],\n",
    "            textposition='inside',\n",
    "            textfont=dict(size=14, color='white', family='Arial Black'),\n",
    "            hovertemplate='<b>%{x}</b><br>Programs: %{y}<extra></extra>',\n",
    "            showlegend=False\n",
    "        ),\n",
    "        row=2, col=2\n",
    "    )\n",
    "    \n",
    "    # Clean layout\n",
    "    fig.update_layout(\n",
    "        height=800,\n",
    "        title={\n",
    "            'text': \"<b>🎓 Education Budget Analysis 2020</b><br><sup>Presidential Proposals vs Congressional Appropriations</sup>\",\n",
    "            'x': 0.5,\n",
    "            'font': {'size': 24, 'color': '#2C3E50'}\n",
    "        },\n",
    "        font=dict(family=\"Arial\", size=12, color='#2C3E50'),\n",
    "        plot_bgcolor='white',\n",
    "        paper_bgcolor='#F8F9FA',\n",
    "        showlegend=True,\n",
    "        legend=dict(\n",
    "            orientation=\"h\",\n",
    "            yanchor=\"bottom\",\n",
    "            y=-0.15,\n",
    "            xanchor=\"center\",\n",
    "            x=0.5,\n",
    "            font=dict(size=12)\n",
    "        )\n",
    "    )\n",
    "    \n",
    "    # Clean axes - remove clutter\n",
    "    for i in range(1, 3):\n",
    "        for j in range(1, 3):\n",
    "            fig.update_xaxes(\n",
    "                tickangle=45,\n",
    "                title_font=dict(size=12),\n",
    "                tickfont=dict(size=10),\n",
    "                showgrid=False,\n",
    "                row=i, col=j\n",
    "            )\n",
    "            fig.update_yaxes(\n",
    "                title_font=dict(size=12),\n",
    "                tickfont=dict(size=10),\n",
    "                showgrid=True,\n",
    "                gridcolor='#E5E5E5',\n",
    "                gridwidth=1,\n",
    "                row=i, col=j\n",
    "            )\n",
    "    \n",
    "    # Specific axis labels\n",
    "    fig.update_yaxes(title_text=\"Change (Billions $)\", row=1, col=1)\n",
    "    fig.update_yaxes(title_text=\"Deviation (Billions $)\", row=1, col=2)\n",
    "    fig.update_yaxes(title_text=\"Appropriation (Billions $)\", row=2, col=1)\n",
    "    fig.update_yaxes(title_text=\"Number of Programs\", row=2, col=2)\n",
    "    \n",
    "    return fig\n",
    "\n",
    "# Create the clean dashboard\n",
    "clean_dashboard = create_clean_budget_dashboard(program_data)\n",
    "clean_dashboard.show()\n"
   ]
  }
 ],
 "metadata": {
  "kernelspec": {
   "display_name": ".venv",
   "language": "python",
   "name": "python3"
  },
  "language_info": {
   "codemirror_mode": {
    "name": "ipython",
    "version": 3
   },
   "file_extension": ".py",
   "mimetype": "text/x-python",
   "name": "python",
   "nbconvert_exporter": "python",
   "pygments_lexer": "ipython3",
   "version": "3.12.3"
  }
 },
 "nbformat": 4,
 "nbformat_minor": 5
}
